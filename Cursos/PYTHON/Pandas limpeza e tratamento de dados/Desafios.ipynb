{
 "cells": [
  {
   "cell_type": "markdown",
   "id": "a8cf9caf",
   "metadata": {},
   "source": [
    "1. Desafio: utilizando parâmetros do json_normalize"
   ]
  },
  {
   "cell_type": "markdown",
   "id": "5067a018",
   "metadata": {},
   "source": [
    "Ao normalizar o objeto JSON durante a aula passamos simplesmente pd.json_normalize(<dados>) mas o método json_normalize possui diversos parâmetros para trabalhar com estruturas de dados mais complexas.\n",
    "\n",
    "Você recebeu a tarefa de normalizar o seguinte arquivo JSON chamado “informacoes.json” referente a algumas informações de identificação de um cliente. O arquivo possui o seguinte conteúdo:"
   ]
  },
  {
   "cell_type": "code",
   "execution_count": 30,
   "id": "cca57379",
   "metadata": {},
   "outputs": [
    {
     "data": {
      "text/plain": [
       "{'nome': 'João',\n",
       " 'idade': 28,\n",
       " 'enderecos': [{'tipo': 'casa',\n",
       "   'rua': 'Rua A',\n",
       "   'numero': 123,\n",
       "   'cidade': 'São Paulo'},\n",
       "  {'tipo': 'trabalho',\n",
       "   'rua': 'Rua B',\n",
       "   'numero': 456,\n",
       "   'cidade': 'Rio de Janeiro'}]}"
      ]
     },
     "execution_count": 30,
     "metadata": {},
     "output_type": "execute_result"
    }
   ],
   "source": [
    "{\n",
    "  \"nome\": \"João\",\n",
    "  \"idade\": 28,\n",
    "  \"enderecos\": [\n",
    "    {\n",
    "      \"tipo\": \"casa\",\n",
    "      \"rua\": \"Rua A\",\n",
    "      \"numero\": 123,\n",
    "      \"cidade\": \"São Paulo\"\n",
    "    },\n",
    "    {\n",
    "      \"tipo\": \"trabalho\",\n",
    "      \"rua\": \"Rua B\",\n",
    "      \"numero\": 456,\n",
    "      \"cidade\": \"Rio de Janeiro\"\n",
    "    }\n",
    "  ]\n",
    "}"
   ]
  },
  {
   "cell_type": "code",
   "execution_count": 31,
   "id": "c8561af8",
   "metadata": {},
   "outputs": [
    {
     "ename": "FileNotFoundError",
     "evalue": "[Errno 2] No such file or directory: 'informacoes.json'",
     "output_type": "error",
     "traceback": [
      "\u001b[1;31m---------------------------------------------------------------------------\u001b[0m",
      "\u001b[1;31mFileNotFoundError\u001b[0m                         Traceback (most recent call last)",
      "Cell \u001b[1;32mIn[31], line 4\u001b[0m\n\u001b[0;32m      1\u001b[0m \u001b[38;5;28;01mimport\u001b[39;00m\u001b[38;5;250m \u001b[39m\u001b[38;5;21;01mpandas\u001b[39;00m\u001b[38;5;250m \u001b[39m\u001b[38;5;28;01mas\u001b[39;00m\u001b[38;5;250m \u001b[39m\u001b[38;5;21;01mpd\u001b[39;00m\n\u001b[0;32m      2\u001b[0m \u001b[38;5;28;01mimport\u001b[39;00m\u001b[38;5;250m \u001b[39m\u001b[38;5;21;01mjson\u001b[39;00m\n\u001b[1;32m----> 4\u001b[0m \u001b[38;5;28;01mwith\u001b[39;00m \u001b[38;5;28;43mopen\u001b[39;49m\u001b[43m(\u001b[49m\u001b[38;5;124;43m'\u001b[39;49m\u001b[38;5;124;43minformacoes.json\u001b[39;49m\u001b[38;5;124;43m'\u001b[39;49m\u001b[43m)\u001b[49m \u001b[38;5;28;01mas\u001b[39;00m f:\n\u001b[0;32m      5\u001b[0m     dados \u001b[38;5;241m=\u001b[39m json\u001b[38;5;241m.\u001b[39mload(f)\n\u001b[0;32m      7\u001b[0m dados\n",
      "File \u001b[1;32m~\\AppData\\Roaming\\Python\\Python312\\site-packages\\IPython\\core\\interactiveshell.py:324\u001b[0m, in \u001b[0;36m_modified_open\u001b[1;34m(file, *args, **kwargs)\u001b[0m\n\u001b[0;32m    317\u001b[0m \u001b[38;5;28;01mif\u001b[39;00m file \u001b[38;5;129;01min\u001b[39;00m {\u001b[38;5;241m0\u001b[39m, \u001b[38;5;241m1\u001b[39m, \u001b[38;5;241m2\u001b[39m}:\n\u001b[0;32m    318\u001b[0m     \u001b[38;5;28;01mraise\u001b[39;00m \u001b[38;5;167;01mValueError\u001b[39;00m(\n\u001b[0;32m    319\u001b[0m         \u001b[38;5;124mf\u001b[39m\u001b[38;5;124m\"\u001b[39m\u001b[38;5;124mIPython won\u001b[39m\u001b[38;5;124m'\u001b[39m\u001b[38;5;124mt let you open fd=\u001b[39m\u001b[38;5;132;01m{\u001b[39;00mfile\u001b[38;5;132;01m}\u001b[39;00m\u001b[38;5;124m by default \u001b[39m\u001b[38;5;124m\"\u001b[39m\n\u001b[0;32m    320\u001b[0m         \u001b[38;5;124m\"\u001b[39m\u001b[38;5;124mas it is likely to crash IPython. If you know what you are doing, \u001b[39m\u001b[38;5;124m\"\u001b[39m\n\u001b[0;32m    321\u001b[0m         \u001b[38;5;124m\"\u001b[39m\u001b[38;5;124myou can use builtins\u001b[39m\u001b[38;5;124m'\u001b[39m\u001b[38;5;124m open.\u001b[39m\u001b[38;5;124m\"\u001b[39m\n\u001b[0;32m    322\u001b[0m     )\n\u001b[1;32m--> 324\u001b[0m \u001b[38;5;28;01mreturn\u001b[39;00m \u001b[43mio_open\u001b[49m\u001b[43m(\u001b[49m\u001b[43mfile\u001b[49m\u001b[43m,\u001b[49m\u001b[43m \u001b[49m\u001b[38;5;241;43m*\u001b[39;49m\u001b[43margs\u001b[49m\u001b[43m,\u001b[49m\u001b[43m \u001b[49m\u001b[38;5;241;43m*\u001b[39;49m\u001b[38;5;241;43m*\u001b[39;49m\u001b[43mkwargs\u001b[49m\u001b[43m)\u001b[49m\n",
      "\u001b[1;31mFileNotFoundError\u001b[0m: [Errno 2] No such file or directory: 'informacoes.json'"
     ]
    }
   ],
   "source": [
    "import pandas as pd\n",
    "import json\n",
    "\n",
    "with open('informacoes.json') as f:\n",
    "    dados = json.load(f)\n",
    "\n",
    "dados"
   ]
  },
  {
   "cell_type": "code",
   "execution_count": null,
   "id": "475d11ef",
   "metadata": {},
   "outputs": [
    {
     "data": {
      "text/html": [
       "<div>\n",
       "<style scoped>\n",
       "    .dataframe tbody tr th:only-of-type {\n",
       "        vertical-align: middle;\n",
       "    }\n",
       "\n",
       "    .dataframe tbody tr th {\n",
       "        vertical-align: top;\n",
       "    }\n",
       "\n",
       "    .dataframe thead th {\n",
       "        text-align: right;\n",
       "    }\n",
       "</style>\n",
       "<table border=\"1\" class=\"dataframe\">\n",
       "  <thead>\n",
       "    <tr style=\"text-align: right;\">\n",
       "      <th></th>\n",
       "      <th>tipo</th>\n",
       "      <th>rua</th>\n",
       "      <th>numero</th>\n",
       "      <th>cidade</th>\n",
       "      <th>nome</th>\n",
       "      <th>idade</th>\n",
       "    </tr>\n",
       "  </thead>\n",
       "  <tbody>\n",
       "    <tr>\n",
       "      <th>0</th>\n",
       "      <td>casa</td>\n",
       "      <td>Rua A</td>\n",
       "      <td>123</td>\n",
       "      <td>SÃ£o Paulo</td>\n",
       "      <td>JoÃ£o</td>\n",
       "      <td>28</td>\n",
       "    </tr>\n",
       "    <tr>\n",
       "      <th>1</th>\n",
       "      <td>trabalho</td>\n",
       "      <td>Rua B</td>\n",
       "      <td>456</td>\n",
       "      <td>Rio de Janeiro</td>\n",
       "      <td>JoÃ£o</td>\n",
       "      <td>28</td>\n",
       "    </tr>\n",
       "  </tbody>\n",
       "</table>\n",
       "</div>"
      ],
      "text/plain": [
       "       tipo    rua  numero          cidade   nome idade\n",
       "0      casa  Rua A     123      SÃ£o Paulo  JoÃ£o    28\n",
       "1  trabalho  Rua B     456  Rio de Janeiro  JoÃ£o    28"
      ]
     },
     "execution_count": 7,
     "metadata": {},
     "output_type": "execute_result"
    }
   ],
   "source": [
    "df = pd.json_normalize(dados, record_path=['enderecos'], meta=['nome', 'idade'])\n",
    "df.head()"
   ]
  },
  {
   "cell_type": "markdown",
   "id": "d5e62ca8",
   "metadata": {},
   "source": [
    "Desafio: tratando os dados"
   ]
  },
  {
   "cell_type": "markdown",
   "id": "f03fabc0",
   "metadata": {},
   "source": [
    "Você recebeu e fez o download o arquivo JSON chamado “dados.json” que possui o seguinte conteúdo:"
   ]
  },
  {
   "cell_type": "code",
   "execution_count": null,
   "id": "97461741",
   "metadata": {},
   "outputs": [
    {
     "data": {
      "text/plain": [
       "{'pessoas': [{'nome': 'João',\n",
       "   'idade': '25',\n",
       "   'endereco': {'rua': 'Rua A', 'numero': 123, 'cidade': 'São Paulo'},\n",
       "   'telefones': ['11 1111-1111', '11 2222-2222']},\n",
       "  {'nome': 'Maria',\n",
       "   'idade': 30,\n",
       "   'endereco': {'rua': '', 'numero': 456, 'cidade': 'Rio de Janeiro'},\n",
       "   'telefones': ['21 3333-3333']}]}"
      ]
     },
     "execution_count": 1,
     "metadata": {},
     "output_type": "execute_result"
    }
   ],
   "source": [
    "{\n",
    "  \"pessoas\": [\n",
    "    {\n",
    "      \"nome\": \"João\",\n",
    "      \"idade\": \"25\",\n",
    "      \"endereco\": {\n",
    "        \"rua\": \"Rua A\",\n",
    "        \"numero\": 123,\n",
    "        \"cidade\": \"São Paulo\"\n",
    "      },\n",
    "      \"telefones\": [\n",
    "        \"11 1111-1111\",\n",
    "        \"11 2222-2222\"\n",
    "      ]\n",
    "    },\n",
    "    {\n",
    "      \"nome\": \"Maria\",\n",
    "      \"idade\": 30,\n",
    "      \"endereco\": {\n",
    "        \"rua\": \"\",\n",
    "        \"numero\": 456,\n",
    "        \"cidade\": \"Rio de Janeiro\"\n",
    "      },\n",
    "      \"telefones\": [\n",
    "        \"21 3333-3333\"\n",
    "      ]\n",
    "    }\n",
    "  ]\n",
    "}"
   ]
  },
  {
   "cell_type": "markdown",
   "id": "ac0c8027",
   "metadata": {},
   "source": [
    "Sua tarefa é realizar alguns tratamentos e deixar esse arquivo JSON como um Pandas DataFrame, sem dados vazios e com a tipagem das colunas de forma correta. Como isso pode ser feito?"
   ]
  },
  {
   "cell_type": "code",
   "execution_count": 32,
   "id": "38aa4dba",
   "metadata": {},
   "outputs": [],
   "source": [
    "import pandas as pd\n",
    "import json\n",
    "\n",
    "with open('Datas\\\\dados.json', 'r') as f:\n",
    "    dados = json.load(f)"
   ]
  },
  {
   "cell_type": "code",
   "execution_count": 33,
   "id": "b172e3ef",
   "metadata": {},
   "outputs": [],
   "source": [
    "df = pd.json_normalize(dados, record_path=['pessoas'])"
   ]
  },
  {
   "cell_type": "code",
   "execution_count": 34,
   "id": "78df71d2",
   "metadata": {},
   "outputs": [
    {
     "name": "stdout",
     "output_type": "stream",
     "text": [
      "<class 'pandas.core.frame.DataFrame'>\n",
      "RangeIndex: 2 entries, 0 to 1\n",
      "Data columns (total 6 columns):\n",
      " #   Column           Non-Null Count  Dtype \n",
      "---  ------           --------------  ----- \n",
      " 0   nome             2 non-null      object\n",
      " 1   idade            2 non-null      object\n",
      " 2   telefones        2 non-null      object\n",
      " 3   endereco.rua     2 non-null      object\n",
      " 4   endereco.numero  2 non-null      int64 \n",
      " 5   endereco.cidade  2 non-null      object\n",
      "dtypes: int64(1), object(5)\n",
      "memory usage: 228.0+ bytes\n"
     ]
    }
   ],
   "source": [
    "df.info()"
   ]
  },
  {
   "cell_type": "code",
   "execution_count": 35,
   "id": "5dc105ec",
   "metadata": {},
   "outputs": [],
   "source": [
    "df['idade'] = df['idade'].astype(int)"
   ]
  },
  {
   "cell_type": "code",
   "execution_count": 36,
   "id": "b0f74ba7",
   "metadata": {},
   "outputs": [],
   "source": [
    "df_filtrado = df.query('`endereco.rua` != \"\"')"
   ]
  },
  {
   "cell_type": "code",
   "execution_count": 38,
   "id": "65bddd08",
   "metadata": {},
   "outputs": [],
   "source": [
    "df_filtrado = df[df['endereco.rua'] != '']"
   ]
  }
 ],
 "metadata": {
  "kernelspec": {
   "display_name": "Python 3",
   "language": "python",
   "name": "python3"
  },
  "language_info": {
   "codemirror_mode": {
    "name": "ipython",
    "version": 3
   },
   "file_extension": ".py",
   "mimetype": "text/x-python",
   "name": "python",
   "nbconvert_exporter": "python",
   "pygments_lexer": "ipython3",
   "version": "3.12.6"
  }
 },
 "nbformat": 4,
 "nbformat_minor": 5
}
