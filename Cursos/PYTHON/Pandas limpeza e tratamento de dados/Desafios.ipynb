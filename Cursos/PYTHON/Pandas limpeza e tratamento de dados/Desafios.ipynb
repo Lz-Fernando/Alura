{
 "cells": [
  {
   "cell_type": "markdown",
   "id": "a8cf9caf",
   "metadata": {},
   "source": [
    "1. Desafio: utilizando parâmetros do json_normalize"
   ]
  },
  {
   "cell_type": "markdown",
   "id": "5067a018",
   "metadata": {},
   "source": [
    "Ao normalizar o objeto JSON durante a aula passamos simplesmente pd.json_normalize(<dados>) mas o método json_normalize possui diversos parâmetros para trabalhar com estruturas de dados mais complexas.\n",
    "\n",
    "Você recebeu a tarefa de normalizar o seguinte arquivo JSON chamado “informacoes.json” referente a algumas informações de identificação de um cliente. O arquivo possui o seguinte conteúdo:"
   ]
  },
  {
   "cell_type": "code",
   "execution_count": 30,
   "id": "cca57379",
   "metadata": {},
   "outputs": [
    {
     "data": {
      "text/plain": [
       "{'nome': 'João',\n",
       " 'idade': 28,\n",
       " 'enderecos': [{'tipo': 'casa',\n",
       "   'rua': 'Rua A',\n",
       "   'numero': 123,\n",
       "   'cidade': 'São Paulo'},\n",
       "  {'tipo': 'trabalho',\n",
       "   'rua': 'Rua B',\n",
       "   'numero': 456,\n",
       "   'cidade': 'Rio de Janeiro'}]}"
      ]
     },
     "execution_count": 30,
     "metadata": {},
     "output_type": "execute_result"
    }
   ],
   "source": [
    "{\n",
    "  \"nome\": \"João\",\n",
    "  \"idade\": 28,\n",
    "  \"enderecos\": [\n",
    "    {\n",
    "      \"tipo\": \"casa\",\n",
    "      \"rua\": \"Rua A\",\n",
    "      \"numero\": 123,\n",
    "      \"cidade\": \"São Paulo\"\n",
    "    },\n",
    "    {\n",
    "      \"tipo\": \"trabalho\",\n",
    "      \"rua\": \"Rua B\",\n",
    "      \"numero\": 456,\n",
    "      \"cidade\": \"Rio de Janeiro\"\n",
    "    }\n",
    "  ]\n",
    "}"
   ]
  },
  {
   "cell_type": "code",
   "execution_count": 31,
   "id": "c8561af8",
   "metadata": {},
   "outputs": [
    {
     "data": {
      "text/plain": [
       "{'nome': 'JoÃ£o',\n",
       " 'idade': 28,\n",
       " 'enderecos': [{'tipo': 'casa',\n",
       "   'rua': 'Rua A',\n",
       "   'numero': 123,\n",
       "   'cidade': 'SÃ£o Paulo'},\n",
       "  {'tipo': 'trabalho',\n",
       "   'rua': 'Rua B',\n",
       "   'numero': 456,\n",
       "   'cidade': 'Rio de Janeiro'}]}"
      ]
     },
     "execution_count": 31,
     "metadata": {},
     "output_type": "execute_result"
    }
   ],
   "source": [
    "import pandas as pd\n",
    "import json\n",
    "\n",
    "with open('Datas\\\\informacoes.json') as f:\n",
    "    dados = json.load(f)\n",
    "\n",
    "dados"
   ]
  },
  {
   "cell_type": "code",
   "execution_count": 32,
   "id": "475d11ef",
   "metadata": {},
   "outputs": [
    {
     "data": {
      "text/html": [
       "<div>\n",
       "<style scoped>\n",
       "    .dataframe tbody tr th:only-of-type {\n",
       "        vertical-align: middle;\n",
       "    }\n",
       "\n",
       "    .dataframe tbody tr th {\n",
       "        vertical-align: top;\n",
       "    }\n",
       "\n",
       "    .dataframe thead th {\n",
       "        text-align: right;\n",
       "    }\n",
       "</style>\n",
       "<table border=\"1\" class=\"dataframe\">\n",
       "  <thead>\n",
       "    <tr style=\"text-align: right;\">\n",
       "      <th></th>\n",
       "      <th>tipo</th>\n",
       "      <th>rua</th>\n",
       "      <th>numero</th>\n",
       "      <th>cidade</th>\n",
       "      <th>nome</th>\n",
       "      <th>idade</th>\n",
       "    </tr>\n",
       "  </thead>\n",
       "  <tbody>\n",
       "    <tr>\n",
       "      <th>0</th>\n",
       "      <td>casa</td>\n",
       "      <td>Rua A</td>\n",
       "      <td>123</td>\n",
       "      <td>SÃ£o Paulo</td>\n",
       "      <td>JoÃ£o</td>\n",
       "      <td>28</td>\n",
       "    </tr>\n",
       "    <tr>\n",
       "      <th>1</th>\n",
       "      <td>trabalho</td>\n",
       "      <td>Rua B</td>\n",
       "      <td>456</td>\n",
       "      <td>Rio de Janeiro</td>\n",
       "      <td>JoÃ£o</td>\n",
       "      <td>28</td>\n",
       "    </tr>\n",
       "  </tbody>\n",
       "</table>\n",
       "</div>"
      ],
      "text/plain": [
       "       tipo    rua  numero          cidade   nome idade\n",
       "0      casa  Rua A     123      SÃ£o Paulo  JoÃ£o    28\n",
       "1  trabalho  Rua B     456  Rio de Janeiro  JoÃ£o    28"
      ]
     },
     "execution_count": 32,
     "metadata": {},
     "output_type": "execute_result"
    }
   ],
   "source": [
    "df = pd.json_normalize(dados, record_path=['enderecos'], meta=['nome', 'idade'])\n",
    "df.head()"
   ]
  },
  {
   "cell_type": "markdown",
   "id": "d5e62ca8",
   "metadata": {},
   "source": [
    "Desafio: tratando os dados"
   ]
  },
  {
   "cell_type": "markdown",
   "id": "f03fabc0",
   "metadata": {},
   "source": [
    "Você recebeu e fez o download o arquivo JSON chamado “dados.json” que possui o seguinte conteúdo:"
   ]
  },
  {
   "cell_type": "code",
   "execution_count": 33,
   "id": "97461741",
   "metadata": {},
   "outputs": [
    {
     "data": {
      "text/plain": [
       "{'pessoas': [{'nome': 'João',\n",
       "   'idade': '25',\n",
       "   'endereco': {'rua': 'Rua A', 'numero': 123, 'cidade': 'São Paulo'},\n",
       "   'telefones': ['11 1111-1111', '11 2222-2222']},\n",
       "  {'nome': 'Maria',\n",
       "   'idade': 30,\n",
       "   'endereco': {'rua': '', 'numero': 456, 'cidade': 'Rio de Janeiro'},\n",
       "   'telefones': ['21 3333-3333']}]}"
      ]
     },
     "execution_count": 33,
     "metadata": {},
     "output_type": "execute_result"
    }
   ],
   "source": [
    "{\n",
    "  \"pessoas\": [\n",
    "    {\n",
    "      \"nome\": \"João\",\n",
    "      \"idade\": \"25\",\n",
    "      \"endereco\": {\n",
    "        \"rua\": \"Rua A\",\n",
    "        \"numero\": 123,\n",
    "        \"cidade\": \"São Paulo\"\n",
    "      },\n",
    "      \"telefones\": [\n",
    "        \"11 1111-1111\",\n",
    "        \"11 2222-2222\"\n",
    "      ]\n",
    "    },\n",
    "    {\n",
    "      \"nome\": \"Maria\",\n",
    "      \"idade\": 30,\n",
    "      \"endereco\": {\n",
    "        \"rua\": \"\",\n",
    "        \"numero\": 456,\n",
    "        \"cidade\": \"Rio de Janeiro\"\n",
    "      },\n",
    "      \"telefones\": [\n",
    "        \"21 3333-3333\"\n",
    "      ]\n",
    "    }\n",
    "  ]\n",
    "}"
   ]
  },
  {
   "cell_type": "markdown",
   "id": "ac0c8027",
   "metadata": {},
   "source": [
    "Sua tarefa é realizar alguns tratamentos e deixar esse arquivo JSON como um Pandas DataFrame, sem dados vazios e com a tipagem das colunas de forma correta. Como isso pode ser feito?"
   ]
  },
  {
   "cell_type": "code",
   "execution_count": 34,
   "id": "38aa4dba",
   "metadata": {},
   "outputs": [],
   "source": [
    "import pandas as pd\n",
    "import json\n",
    "\n",
    "with open('Datas\\\\dados.json', 'r') as f:\n",
    "    dados = json.load(f)"
   ]
  },
  {
   "cell_type": "code",
   "execution_count": 35,
   "id": "b172e3ef",
   "metadata": {},
   "outputs": [],
   "source": [
    "df = pd.json_normalize(dados, record_path=['pessoas'])"
   ]
  },
  {
   "cell_type": "code",
   "execution_count": 36,
   "id": "78df71d2",
   "metadata": {},
   "outputs": [
    {
     "name": "stdout",
     "output_type": "stream",
     "text": [
      "<class 'pandas.core.frame.DataFrame'>\n",
      "RangeIndex: 2 entries, 0 to 1\n",
      "Data columns (total 6 columns):\n",
      " #   Column           Non-Null Count  Dtype \n",
      "---  ------           --------------  ----- \n",
      " 0   nome             2 non-null      object\n",
      " 1   idade            2 non-null      object\n",
      " 2   telefones        2 non-null      object\n",
      " 3   endereco.rua     2 non-null      object\n",
      " 4   endereco.numero  2 non-null      int64 \n",
      " 5   endereco.cidade  2 non-null      object\n",
      "dtypes: int64(1), object(5)\n",
      "memory usage: 228.0+ bytes\n"
     ]
    }
   ],
   "source": [
    "df.info()"
   ]
  },
  {
   "cell_type": "code",
   "execution_count": 37,
   "id": "5dc105ec",
   "metadata": {},
   "outputs": [],
   "source": [
    "df['idade'] = df['idade'].astype(int)"
   ]
  },
  {
   "cell_type": "code",
   "execution_count": 38,
   "id": "b0f74ba7",
   "metadata": {},
   "outputs": [],
   "source": [
    "df_filtrado = df.query('`endereco.rua` != \"\"')"
   ]
  },
  {
   "cell_type": "code",
   "execution_count": 39,
   "id": "65bddd08",
   "metadata": {},
   "outputs": [],
   "source": [
    "df_filtrado = df[df['endereco.rua'] != '']"
   ]
  },
  {
   "cell_type": "markdown",
   "id": "af3571fc",
   "metadata": {},
   "source": [
    "Desafio: tratando uma base de dados"
   ]
  },
  {
   "cell_type": "markdown",
   "id": "fd7ebb42",
   "metadata": {},
   "source": [
    "Para facilitar a análise dos dados de cadastro de cursos de uma plataforma, você recebeu um arquivo chamado cursos_cadastrados.json. Você foi informado que esses dados podem apresentar problemas que podem prejudicar a análise e interpretação correta dos dados.\n",
    "\n",
    "\n",
    "Para resolver isso, foi solicitado que você identifique e remova as amostras que apresentam os seguintes problemas:\n",
    "\n",
    "\n",
    "Valores nulos: são valores ausentes em algumas das colunas que devem ser preenchidos para que a análise seja correta.\n",
    "\n",
    "\n",
    "Duplicatas: registros iguais que podem prejudicar a análise dos dados, já que estão representando a mesma informação.\n",
    "\n",
    "\n",
    "Strings vazias: valores de texto que não apresentam nenhum conteúdo escrito, o que pode dificultar a análise de dados, principalmente se a coluna tiver muitos valores assim.\n",
    "\n",
    "\n",
    "Conversão de tipos: algumas colunas do arquivo podem estar no tipo de dados errado, como texto em vez de número, o que pode prejudicar a análise. Nesse caso você deve realizar a conversão para o tipo correto de cada coluna.\n",
    "\n",
    "\n",
    "Dentro desse contexto, você precisará de uma abordagem sistemática para limpar os dados. Assim, como isso pode ser feito?\n"
   ]
  },
  {
   "cell_type": "code",
   "execution_count": 40,
   "id": "af7c8e9b",
   "metadata": {},
   "outputs": [],
   "source": [
    "import pandas as pd\n",
    "import numpy as np\n",
    "import json"
   ]
  },
  {
   "cell_type": "code",
   "execution_count": 41,
   "id": "c3ee6329",
   "metadata": {},
   "outputs": [],
   "source": [
    "with open('Datas\\\\cursos_cadastrados.json', 'r') as f:\n",
    "    dados = json.load(f)"
   ]
  },
  {
   "cell_type": "code",
   "execution_count": 42,
   "id": "972ed4a0",
   "metadata": {},
   "outputs": [],
   "source": [
    "df = pd.json_normalize(dados)"
   ]
  },
  {
   "cell_type": "code",
   "execution_count": 43,
   "id": "9e95b59f",
   "metadata": {},
   "outputs": [
    {
     "data": {
      "text/html": [
       "<div>\n",
       "<style scoped>\n",
       "    .dataframe tbody tr th:only-of-type {\n",
       "        vertical-align: middle;\n",
       "    }\n",
       "\n",
       "    .dataframe tbody tr th {\n",
       "        vertical-align: top;\n",
       "    }\n",
       "\n",
       "    .dataframe thead th {\n",
       "        text-align: right;\n",
       "    }\n",
       "</style>\n",
       "<table border=\"1\" class=\"dataframe\">\n",
       "  <thead>\n",
       "    <tr style=\"text-align: right;\">\n",
       "      <th></th>\n",
       "      <th>curso</th>\n",
       "      <th>categoria</th>\n",
       "      <th>carga_horaria</th>\n",
       "      <th>concluintes</th>\n",
       "      <th>data_inicio</th>\n",
       "      <th>data_conclusao</th>\n",
       "      <th>descricao</th>\n",
       "      <th>preco</th>\n",
       "      <th>instrutor.nome</th>\n",
       "      <th>instrutor.email</th>\n",
       "      <th>instrutor.telefone</th>\n",
       "    </tr>\n",
       "  </thead>\n",
       "  <tbody>\n",
       "    <tr>\n",
       "      <th>0</th>\n",
       "      <td>IntroduÃ§Ã£o Ã  programaÃ§Ã£o</td>\n",
       "      <td>ProgramaÃ§Ã£o</td>\n",
       "      <td>20 horas</td>\n",
       "      <td>100</td>\n",
       "      <td>2022-01-01</td>\n",
       "      <td>2022-01-20</td>\n",
       "      <td>Curso introdutÃ³rio Ã  programaÃ§Ã£o com Python</td>\n",
       "      <td>99.90</td>\n",
       "      <td>JoÃ£o Silva</td>\n",
       "      <td>joao.silva@emailaleatorio.com</td>\n",
       "      <td>(11) 9999-9999</td>\n",
       "    </tr>\n",
       "    <tr>\n",
       "      <th>1</th>\n",
       "      <td>Excel para iniciantes</td>\n",
       "      <td>Produtividade</td>\n",
       "      <td>None</td>\n",
       "      <td>None</td>\n",
       "      <td>None</td>\n",
       "      <td>None</td>\n",
       "      <td>None</td>\n",
       "      <td>None</td>\n",
       "      <td>Maria Oliveira</td>\n",
       "      <td>maria.oliveira@emailaleatorio.com</td>\n",
       "      <td>(11) 8888-8888</td>\n",
       "    </tr>\n",
       "    <tr>\n",
       "      <th>2</th>\n",
       "      <td>Marketing digital para negÃ³cios</td>\n",
       "      <td>Marketing</td>\n",
       "      <td>30 horas</td>\n",
       "      <td>75</td>\n",
       "      <td>2022-03-01</td>\n",
       "      <td>2022-03-31</td>\n",
       "      <td>Curso introdutÃ³rio em marketing</td>\n",
       "      <td>89.9</td>\n",
       "      <td>Ana Santos</td>\n",
       "      <td>ana.santos@emailaleatorio.com</td>\n",
       "      <td>(11) 7777-7777</td>\n",
       "    </tr>\n",
       "    <tr>\n",
       "      <th>3</th>\n",
       "      <td>InteligÃªncia artificial</td>\n",
       "      <td>ProgramaÃ§Ã£o</td>\n",
       "      <td>40 horas</td>\n",
       "      <td></td>\n",
       "      <td>2022-04-01</td>\n",
       "      <td></td>\n",
       "      <td>Curso avanÃ§ado sobre inteligÃªncia artificial...</td>\n",
       "      <td>129.9</td>\n",
       "      <td></td>\n",
       "      <td>contato@emailaleatorio.com</td>\n",
       "      <td></td>\n",
       "    </tr>\n",
       "    <tr>\n",
       "      <th>4</th>\n",
       "      <td>InglÃªs para negÃ³cios</td>\n",
       "      <td>Idiomas</td>\n",
       "      <td>20 horas</td>\n",
       "      <td>30</td>\n",
       "      <td></td>\n",
       "      <td></td>\n",
       "      <td>Curso de inglÃªs para negÃ³cios</td>\n",
       "      <td>69.9</td>\n",
       "      <td>John Smith</td>\n",
       "      <td></td>\n",
       "      <td></td>\n",
       "    </tr>\n",
       "    <tr>\n",
       "      <th>5</th>\n",
       "      <td>IntroduÃ§Ã£o Ã  programaÃ§Ã£o</td>\n",
       "      <td>ProgramaÃ§Ã£o</td>\n",
       "      <td>20 horas</td>\n",
       "      <td>100</td>\n",
       "      <td>2022-01-01</td>\n",
       "      <td>2022-01-20</td>\n",
       "      <td>Curso introdutÃ³rio Ã  programaÃ§Ã£o com Python</td>\n",
       "      <td>99.90</td>\n",
       "      <td>JoÃ£o Silva</td>\n",
       "      <td>joao.silva@emailaleatorio.com</td>\n",
       "      <td>(11) 9999-9999</td>\n",
       "    </tr>\n",
       "  </tbody>\n",
       "</table>\n",
       "</div>"
      ],
      "text/plain": [
       "                              curso      categoria carga_horaria concluintes  \\\n",
       "0     IntroduÃ§Ã£o Ã  programaÃ§Ã£o  ProgramaÃ§Ã£o      20 horas         100   \n",
       "1             Excel para iniciantes  Produtividade          None        None   \n",
       "2  Marketing digital para negÃ³cios      Marketing      30 horas          75   \n",
       "3          InteligÃªncia artificial  ProgramaÃ§Ã£o      40 horas               \n",
       "4            InglÃªs para negÃ³cios        Idiomas      20 horas          30   \n",
       "5     IntroduÃ§Ã£o Ã  programaÃ§Ã£o  ProgramaÃ§Ã£o      20 horas         100   \n",
       "\n",
       "  data_inicio data_conclusao  \\\n",
       "0  2022-01-01     2022-01-20   \n",
       "1        None           None   \n",
       "2  2022-03-01     2022-03-31   \n",
       "3  2022-04-01                  \n",
       "4                              \n",
       "5  2022-01-01     2022-01-20   \n",
       "\n",
       "                                           descricao  preco  instrutor.nome  \\\n",
       "0    Curso introdutÃ³rio Ã  programaÃ§Ã£o com Python  99.90     JoÃ£o Silva   \n",
       "1                                               None   None  Maria Oliveira   \n",
       "2                   Curso introdutÃ³rio em marketing   89.9      Ana Santos   \n",
       "3  Curso avanÃ§ado sobre inteligÃªncia artificial...  129.9                   \n",
       "4                    Curso de inglÃªs para negÃ³cios   69.9      John Smith   \n",
       "5    Curso introdutÃ³rio Ã  programaÃ§Ã£o com Python  99.90     JoÃ£o Silva   \n",
       "\n",
       "                     instrutor.email instrutor.telefone  \n",
       "0      joao.silva@emailaleatorio.com     (11) 9999-9999  \n",
       "1  maria.oliveira@emailaleatorio.com     (11) 8888-8888  \n",
       "2      ana.santos@emailaleatorio.com     (11) 7777-7777  \n",
       "3         contato@emailaleatorio.com                     \n",
       "4                                                        \n",
       "5      joao.silva@emailaleatorio.com     (11) 9999-9999  "
      ]
     },
     "execution_count": 43,
     "metadata": {},
     "output_type": "execute_result"
    }
   ],
   "source": [
    "df"
   ]
  },
  {
   "cell_type": "markdown",
   "id": "0f9210ad",
   "metadata": {},
   "source": [
    "Identificar e remover amostras com valores nulos"
   ]
  },
  {
   "cell_type": "code",
   "execution_count": 44,
   "id": "055515b8",
   "metadata": {},
   "outputs": [
    {
     "data": {
      "text/plain": [
       "np.int64(6)"
      ]
     },
     "execution_count": 44,
     "metadata": {},
     "output_type": "execute_result"
    }
   ],
   "source": [
    "df.isnull().sum().sum()"
   ]
  },
  {
   "cell_type": "code",
   "execution_count": 45,
   "id": "a54be5ee",
   "metadata": {},
   "outputs": [
    {
     "data": {
      "text/html": [
       "<div>\n",
       "<style scoped>\n",
       "    .dataframe tbody tr th:only-of-type {\n",
       "        vertical-align: middle;\n",
       "    }\n",
       "\n",
       "    .dataframe tbody tr th {\n",
       "        vertical-align: top;\n",
       "    }\n",
       "\n",
       "    .dataframe thead th {\n",
       "        text-align: right;\n",
       "    }\n",
       "</style>\n",
       "<table border=\"1\" class=\"dataframe\">\n",
       "  <thead>\n",
       "    <tr style=\"text-align: right;\">\n",
       "      <th></th>\n",
       "      <th>curso</th>\n",
       "      <th>categoria</th>\n",
       "      <th>carga_horaria</th>\n",
       "      <th>concluintes</th>\n",
       "      <th>data_inicio</th>\n",
       "      <th>data_conclusao</th>\n",
       "      <th>descricao</th>\n",
       "      <th>preco</th>\n",
       "      <th>instrutor.nome</th>\n",
       "      <th>instrutor.email</th>\n",
       "      <th>instrutor.telefone</th>\n",
       "    </tr>\n",
       "  </thead>\n",
       "  <tbody>\n",
       "    <tr>\n",
       "      <th>1</th>\n",
       "      <td>Excel para iniciantes</td>\n",
       "      <td>Produtividade</td>\n",
       "      <td>None</td>\n",
       "      <td>None</td>\n",
       "      <td>None</td>\n",
       "      <td>None</td>\n",
       "      <td>None</td>\n",
       "      <td>None</td>\n",
       "      <td>Maria Oliveira</td>\n",
       "      <td>maria.oliveira@emailaleatorio.com</td>\n",
       "      <td>(11) 8888-8888</td>\n",
       "    </tr>\n",
       "  </tbody>\n",
       "</table>\n",
       "</div>"
      ],
      "text/plain": [
       "                   curso      categoria carga_horaria concluintes data_inicio  \\\n",
       "1  Excel para iniciantes  Produtividade          None        None        None   \n",
       "\n",
       "  data_conclusao descricao preco  instrutor.nome  \\\n",
       "1           None      None  None  Maria Oliveira   \n",
       "\n",
       "                     instrutor.email instrutor.telefone  \n",
       "1  maria.oliveira@emailaleatorio.com     (11) 8888-8888  "
      ]
     },
     "execution_count": 45,
     "metadata": {},
     "output_type": "execute_result"
    }
   ],
   "source": [
    "df[df.isna().any(axis = 1)]"
   ]
  },
  {
   "cell_type": "code",
   "execution_count": 46,
   "id": "6785bc30",
   "metadata": {},
   "outputs": [],
   "source": [
    "df.dropna(inplace = True)"
   ]
  },
  {
   "cell_type": "markdown",
   "id": "975515b7",
   "metadata": {},
   "source": [
    "Identificar e remover amostras com valores duplicados"
   ]
  },
  {
   "cell_type": "code",
   "execution_count": 47,
   "id": "7e3ace87",
   "metadata": {},
   "outputs": [
    {
     "data": {
      "text/plain": [
       "0    False\n",
       "2    False\n",
       "3    False\n",
       "4    False\n",
       "5     True\n",
       "dtype: bool"
      ]
     },
     "execution_count": 47,
     "metadata": {},
     "output_type": "execute_result"
    }
   ],
   "source": [
    "df.duplicated()"
   ]
  },
  {
   "cell_type": "code",
   "execution_count": 48,
   "id": "43aa48ed",
   "metadata": {},
   "outputs": [],
   "source": [
    "df.drop_duplicates(inplace = True)"
   ]
  },
  {
   "cell_type": "markdown",
   "id": "8dced3c1",
   "metadata": {},
   "source": [
    "Remover as amostras com strings vazias"
   ]
  },
  {
   "cell_type": "code",
   "execution_count": 49,
   "id": "e35ede87",
   "metadata": {},
   "outputs": [
    {
     "data": {
      "text/html": [
       "<div>\n",
       "<style scoped>\n",
       "    .dataframe tbody tr th:only-of-type {\n",
       "        vertical-align: middle;\n",
       "    }\n",
       "\n",
       "    .dataframe tbody tr th {\n",
       "        vertical-align: top;\n",
       "    }\n",
       "\n",
       "    .dataframe thead th {\n",
       "        text-align: right;\n",
       "    }\n",
       "</style>\n",
       "<table border=\"1\" class=\"dataframe\">\n",
       "  <thead>\n",
       "    <tr style=\"text-align: right;\">\n",
       "      <th></th>\n",
       "      <th>curso</th>\n",
       "      <th>categoria</th>\n",
       "      <th>carga_horaria</th>\n",
       "      <th>concluintes</th>\n",
       "      <th>data_inicio</th>\n",
       "      <th>data_conclusao</th>\n",
       "      <th>descricao</th>\n",
       "      <th>preco</th>\n",
       "      <th>instrutor.nome</th>\n",
       "      <th>instrutor.email</th>\n",
       "      <th>instrutor.telefone</th>\n",
       "    </tr>\n",
       "  </thead>\n",
       "  <tbody>\n",
       "    <tr>\n",
       "      <th>3</th>\n",
       "      <td>InteligÃªncia artificial</td>\n",
       "      <td>ProgramaÃ§Ã£o</td>\n",
       "      <td>40 horas</td>\n",
       "      <td></td>\n",
       "      <td>2022-04-01</td>\n",
       "      <td></td>\n",
       "      <td>Curso avanÃ§ado sobre inteligÃªncia artificial...</td>\n",
       "      <td>129.9</td>\n",
       "      <td></td>\n",
       "      <td>contato@emailaleatorio.com</td>\n",
       "      <td></td>\n",
       "    </tr>\n",
       "  </tbody>\n",
       "</table>\n",
       "</div>"
      ],
      "text/plain": [
       "                      curso      categoria carga_horaria concluintes  \\\n",
       "3  InteligÃªncia artificial  ProgramaÃ§Ã£o      40 horas               \n",
       "\n",
       "  data_inicio data_conclusao  \\\n",
       "3  2022-04-01                  \n",
       "\n",
       "                                           descricao  preco instrutor.nome  \\\n",
       "3  Curso avanÃ§ado sobre inteligÃªncia artificial...  129.9                  \n",
       "\n",
       "              instrutor.email instrutor.telefone  \n",
       "3  contato@emailaleatorio.com                     "
      ]
     },
     "execution_count": 49,
     "metadata": {},
     "output_type": "execute_result"
    }
   ],
   "source": [
    "df[df['instrutor.nome'] == \"\"]"
   ]
  },
  {
   "cell_type": "code",
   "execution_count": 50,
   "id": "9d16943f",
   "metadata": {},
   "outputs": [
    {
     "data": {
      "text/html": [
       "<div>\n",
       "<style scoped>\n",
       "    .dataframe tbody tr th:only-of-type {\n",
       "        vertical-align: middle;\n",
       "    }\n",
       "\n",
       "    .dataframe tbody tr th {\n",
       "        vertical-align: top;\n",
       "    }\n",
       "\n",
       "    .dataframe thead th {\n",
       "        text-align: right;\n",
       "    }\n",
       "</style>\n",
       "<table border=\"1\" class=\"dataframe\">\n",
       "  <thead>\n",
       "    <tr style=\"text-align: right;\">\n",
       "      <th></th>\n",
       "      <th>curso</th>\n",
       "      <th>categoria</th>\n",
       "      <th>carga_horaria</th>\n",
       "      <th>concluintes</th>\n",
       "      <th>data_inicio</th>\n",
       "      <th>data_conclusao</th>\n",
       "      <th>descricao</th>\n",
       "      <th>preco</th>\n",
       "      <th>instrutor.nome</th>\n",
       "      <th>instrutor.email</th>\n",
       "      <th>instrutor.telefone</th>\n",
       "    </tr>\n",
       "  </thead>\n",
       "  <tbody>\n",
       "    <tr>\n",
       "      <th>3</th>\n",
       "      <td>InteligÃªncia artificial</td>\n",
       "      <td>ProgramaÃ§Ã£o</td>\n",
       "      <td>40 horas</td>\n",
       "      <td></td>\n",
       "      <td>2022-04-01</td>\n",
       "      <td></td>\n",
       "      <td>Curso avanÃ§ado sobre inteligÃªncia artificial...</td>\n",
       "      <td>129.9</td>\n",
       "      <td></td>\n",
       "      <td>contato@emailaleatorio.com</td>\n",
       "      <td></td>\n",
       "    </tr>\n",
       "    <tr>\n",
       "      <th>4</th>\n",
       "      <td>InglÃªs para negÃ³cios</td>\n",
       "      <td>Idiomas</td>\n",
       "      <td>20 horas</td>\n",
       "      <td>30</td>\n",
       "      <td></td>\n",
       "      <td></td>\n",
       "      <td>Curso de inglÃªs para negÃ³cios</td>\n",
       "      <td>69.9</td>\n",
       "      <td>John Smith</td>\n",
       "      <td></td>\n",
       "      <td></td>\n",
       "    </tr>\n",
       "  </tbody>\n",
       "</table>\n",
       "</div>"
      ],
      "text/plain": [
       "                      curso      categoria carga_horaria concluintes  \\\n",
       "3  InteligÃªncia artificial  ProgramaÃ§Ã£o      40 horas               \n",
       "4    InglÃªs para negÃ³cios        Idiomas      20 horas          30   \n",
       "\n",
       "  data_inicio data_conclusao  \\\n",
       "3  2022-04-01                  \n",
       "4                              \n",
       "\n",
       "                                           descricao  preco instrutor.nome  \\\n",
       "3  Curso avanÃ§ado sobre inteligÃªncia artificial...  129.9                  \n",
       "4                    Curso de inglÃªs para negÃ³cios   69.9     John Smith   \n",
       "\n",
       "              instrutor.email instrutor.telefone  \n",
       "3  contato@emailaleatorio.com                     \n",
       "4                                                 "
      ]
     },
     "execution_count": 50,
     "metadata": {},
     "output_type": "execute_result"
    }
   ],
   "source": [
    "df[df['data_conclusao'] == \"\"]"
   ]
  },
  {
   "cell_type": "code",
   "execution_count": 51,
   "id": "419ff876",
   "metadata": {},
   "outputs": [],
   "source": [
    "df.replace('', pd.NA, inplace = True)"
   ]
  },
  {
   "cell_type": "code",
   "execution_count": 52,
   "id": "e560ad16",
   "metadata": {},
   "outputs": [
    {
     "data": {
      "text/html": [
       "<div>\n",
       "<style scoped>\n",
       "    .dataframe tbody tr th:only-of-type {\n",
       "        vertical-align: middle;\n",
       "    }\n",
       "\n",
       "    .dataframe tbody tr th {\n",
       "        vertical-align: top;\n",
       "    }\n",
       "\n",
       "    .dataframe thead th {\n",
       "        text-align: right;\n",
       "    }\n",
       "</style>\n",
       "<table border=\"1\" class=\"dataframe\">\n",
       "  <thead>\n",
       "    <tr style=\"text-align: right;\">\n",
       "      <th></th>\n",
       "      <th>curso</th>\n",
       "      <th>categoria</th>\n",
       "      <th>carga_horaria</th>\n",
       "      <th>concluintes</th>\n",
       "      <th>data_inicio</th>\n",
       "      <th>data_conclusao</th>\n",
       "      <th>descricao</th>\n",
       "      <th>preco</th>\n",
       "      <th>instrutor.nome</th>\n",
       "      <th>instrutor.email</th>\n",
       "      <th>instrutor.telefone</th>\n",
       "    </tr>\n",
       "  </thead>\n",
       "  <tbody>\n",
       "    <tr>\n",
       "      <th>0</th>\n",
       "      <td>IntroduÃ§Ã£o Ã  programaÃ§Ã£o</td>\n",
       "      <td>ProgramaÃ§Ã£o</td>\n",
       "      <td>20 horas</td>\n",
       "      <td>100</td>\n",
       "      <td>2022-01-01</td>\n",
       "      <td>2022-01-20</td>\n",
       "      <td>Curso introdutÃ³rio Ã  programaÃ§Ã£o com Python</td>\n",
       "      <td>99.90</td>\n",
       "      <td>JoÃ£o Silva</td>\n",
       "      <td>joao.silva@emailaleatorio.com</td>\n",
       "      <td>(11) 9999-9999</td>\n",
       "    </tr>\n",
       "    <tr>\n",
       "      <th>2</th>\n",
       "      <td>Marketing digital para negÃ³cios</td>\n",
       "      <td>Marketing</td>\n",
       "      <td>30 horas</td>\n",
       "      <td>75</td>\n",
       "      <td>2022-03-01</td>\n",
       "      <td>2022-03-31</td>\n",
       "      <td>Curso introdutÃ³rio em marketing</td>\n",
       "      <td>89.9</td>\n",
       "      <td>Ana Santos</td>\n",
       "      <td>ana.santos@emailaleatorio.com</td>\n",
       "      <td>(11) 7777-7777</td>\n",
       "    </tr>\n",
       "  </tbody>\n",
       "</table>\n",
       "</div>"
      ],
      "text/plain": [
       "                              curso      categoria carga_horaria concluintes  \\\n",
       "0     IntroduÃ§Ã£o Ã  programaÃ§Ã£o  ProgramaÃ§Ã£o      20 horas         100   \n",
       "2  Marketing digital para negÃ³cios      Marketing      30 horas          75   \n",
       "\n",
       "  data_inicio data_conclusao                                        descricao  \\\n",
       "0  2022-01-01     2022-01-20  Curso introdutÃ³rio Ã  programaÃ§Ã£o com Python   \n",
       "2  2022-03-01     2022-03-31                 Curso introdutÃ³rio em marketing   \n",
       "\n",
       "   preco instrutor.nome                instrutor.email instrutor.telefone  \n",
       "0  99.90    JoÃ£o Silva  joao.silva@emailaleatorio.com     (11) 9999-9999  \n",
       "2   89.9     Ana Santos  ana.santos@emailaleatorio.com     (11) 7777-7777  "
      ]
     },
     "execution_count": 52,
     "metadata": {},
     "output_type": "execute_result"
    }
   ],
   "source": [
    "df.dropna(inplace = True)\n",
    "df"
   ]
  },
  {
   "cell_type": "markdown",
   "id": "d57b84fa",
   "metadata": {},
   "source": [
    "Fazer o cast das colunas para seus tipos corretos"
   ]
  },
  {
   "cell_type": "code",
   "execution_count": 53,
   "id": "6fc8cabf",
   "metadata": {},
   "outputs": [
    {
     "name": "stdout",
     "output_type": "stream",
     "text": [
      "<class 'pandas.core.frame.DataFrame'>\n",
      "Index: 2 entries, 0 to 2\n",
      "Data columns (total 11 columns):\n",
      " #   Column              Non-Null Count  Dtype \n",
      "---  ------              --------------  ----- \n",
      " 0   curso               2 non-null      object\n",
      " 1   categoria           2 non-null      object\n",
      " 2   carga_horaria       2 non-null      object\n",
      " 3   concluintes         2 non-null      object\n",
      " 4   data_inicio         2 non-null      object\n",
      " 5   data_conclusao      2 non-null      object\n",
      " 6   descricao           2 non-null      object\n",
      " 7   preco               2 non-null      object\n",
      " 8   instrutor.nome      2 non-null      object\n",
      " 9   instrutor.email     2 non-null      object\n",
      " 10  instrutor.telefone  2 non-null      object\n",
      "dtypes: object(11)\n",
      "memory usage: 192.0+ bytes\n"
     ]
    }
   ],
   "source": [
    "df.info()"
   ]
  },
  {
   "cell_type": "code",
   "execution_count": 55,
   "id": "06e4e002",
   "metadata": {},
   "outputs": [],
   "source": [
    "df['concluintes'] = df['concluintes'].astype(int)\n",
    "\n",
    "df['data_inicio'] = pd.to_datetime(df['data_inicio'])\n",
    "df['data_conclusao'] = pd.to_datetime(df['data_conclusao'])\n",
    "\n",
    "df['preco'] = df['preco'].astype(float)"
   ]
  },
  {
   "cell_type": "code",
   "execution_count": 56,
   "id": "07314884",
   "metadata": {},
   "outputs": [
    {
     "name": "stdout",
     "output_type": "stream",
     "text": [
      "<class 'pandas.core.frame.DataFrame'>\n",
      "Index: 2 entries, 0 to 2\n",
      "Data columns (total 11 columns):\n",
      " #   Column              Non-Null Count  Dtype         \n",
      "---  ------              --------------  -----         \n",
      " 0   curso               2 non-null      object        \n",
      " 1   categoria           2 non-null      object        \n",
      " 2   carga_horaria       2 non-null      object        \n",
      " 3   concluintes         2 non-null      int64         \n",
      " 4   data_inicio         2 non-null      datetime64[ns]\n",
      " 5   data_conclusao      2 non-null      datetime64[ns]\n",
      " 6   descricao           2 non-null      object        \n",
      " 7   preco               2 non-null      float64       \n",
      " 8   instrutor.nome      2 non-null      object        \n",
      " 9   instrutor.email     2 non-null      object        \n",
      " 10  instrutor.telefone  2 non-null      object        \n",
      "dtypes: datetime64[ns](2), float64(1), int64(1), object(7)\n",
      "memory usage: 192.0+ bytes\n"
     ]
    }
   ],
   "source": [
    "df.info()"
   ]
  },
  {
   "cell_type": "code",
   "execution_count": null,
   "id": "7e86f0c8",
   "metadata": {},
   "outputs": [],
   "source": []
  }
 ],
 "metadata": {
  "kernelspec": {
   "display_name": "Python 3",
   "language": "python",
   "name": "python3"
  },
  "language_info": {
   "codemirror_mode": {
    "name": "ipython",
    "version": 3
   },
   "file_extension": ".py",
   "mimetype": "text/x-python",
   "name": "python",
   "nbconvert_exporter": "python",
   "pygments_lexer": "ipython3",
   "version": "3.13.2"
  }
 },
 "nbformat": 4,
 "nbformat_minor": 5
}
