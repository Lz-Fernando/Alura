{
 "cells": [
  {
   "cell_type": "markdown",
   "metadata": {},
   "source": [
    "DESAFIO 1"
   ]
  },
  {
   "cell_type": "code",
   "execution_count": 1,
   "metadata": {},
   "outputs": [],
   "source": [
    "import pandas as pd\n",
    "import numpy as np"
   ]
  },
  {
   "cell_type": "code",
   "execution_count": 2,
   "metadata": {},
   "outputs": [
    {
     "data": {
      "text/html": [
       "<div>\n",
       "<style scoped>\n",
       "    .dataframe tbody tr th:only-of-type {\n",
       "        vertical-align: middle;\n",
       "    }\n",
       "\n",
       "    .dataframe tbody tr th {\n",
       "        vertical-align: top;\n",
       "    }\n",
       "\n",
       "    .dataframe thead th {\n",
       "        text-align: right;\n",
       "    }\n",
       "</style>\n",
       "<table border=\"1\" class=\"dataframe\">\n",
       "  <thead>\n",
       "    <tr style=\"text-align: right;\">\n",
       "      <th></th>\n",
       "      <th>dados_locacao</th>\n",
       "    </tr>\n",
       "  </thead>\n",
       "  <tbody>\n",
       "    <tr>\n",
       "      <th>0</th>\n",
       "      <td>{'apartamento': 'A101 (blocoAP)', 'datas_combi...</td>\n",
       "    </tr>\n",
       "    <tr>\n",
       "      <th>1</th>\n",
       "      <td>{'apartamento': 'A102 (blocoAP)', 'datas_combi...</td>\n",
       "    </tr>\n",
       "    <tr>\n",
       "      <th>2</th>\n",
       "      <td>{'apartamento': 'B201 (blocoAP)', 'datas_combi...</td>\n",
       "    </tr>\n",
       "    <tr>\n",
       "      <th>3</th>\n",
       "      <td>{'apartamento': 'B202 (blocoAP)', 'datas_combi...</td>\n",
       "    </tr>\n",
       "    <tr>\n",
       "      <th>4</th>\n",
       "      <td>{'apartamento': 'C301 (blocoAP)', 'datas_combi...</td>\n",
       "    </tr>\n",
       "  </tbody>\n",
       "</table>\n",
       "</div>"
      ],
      "text/plain": [
       "                                       dados_locacao\n",
       "0  {'apartamento': 'A101 (blocoAP)', 'datas_combi...\n",
       "1  {'apartamento': 'A102 (blocoAP)', 'datas_combi...\n",
       "2  {'apartamento': 'B201 (blocoAP)', 'datas_combi...\n",
       "3  {'apartamento': 'B202 (blocoAP)', 'datas_combi...\n",
       "4  {'apartamento': 'C301 (blocoAP)', 'datas_combi..."
      ]
     },
     "execution_count": 2,
     "metadata": {},
     "output_type": "execute_result"
    }
   ],
   "source": [
    "dados = pd.read_json('dados_locacao_imoveis.json')\n",
    "dados.head()"
   ]
  },
  {
   "cell_type": "code",
   "execution_count": 3,
   "metadata": {},
   "outputs": [
    {
     "data": {
      "text/html": [
       "<div>\n",
       "<style scoped>\n",
       "    .dataframe tbody tr th:only-of-type {\n",
       "        vertical-align: middle;\n",
       "    }\n",
       "\n",
       "    .dataframe tbody tr th {\n",
       "        vertical-align: top;\n",
       "    }\n",
       "\n",
       "    .dataframe thead th {\n",
       "        text-align: right;\n",
       "    }\n",
       "</style>\n",
       "<table border=\"1\" class=\"dataframe\">\n",
       "  <thead>\n",
       "    <tr style=\"text-align: right;\">\n",
       "      <th></th>\n",
       "      <th>apartamento</th>\n",
       "      <th>datas_combinadas_pagamento</th>\n",
       "      <th>datas_de_pagamento</th>\n",
       "      <th>valor_aluguel</th>\n",
       "    </tr>\n",
       "  </thead>\n",
       "  <tbody>\n",
       "    <tr>\n",
       "      <th>0</th>\n",
       "      <td>A101 (blocoAP)</td>\n",
       "      <td>[01/06/2022, 01/07/2022]</td>\n",
       "      <td>[05/06/2022, 03/07/2022]</td>\n",
       "      <td>[$ 1000,0 reais, $ 2500,0 reais]</td>\n",
       "    </tr>\n",
       "    <tr>\n",
       "      <th>1</th>\n",
       "      <td>A102 (blocoAP)</td>\n",
       "      <td>[02/06/2022, 02/07/2022]</td>\n",
       "      <td>[02/06/2022, 06/07/2022]</td>\n",
       "      <td>[$ 1100,0 reais, $ 2600,0 reais]</td>\n",
       "    </tr>\n",
       "    <tr>\n",
       "      <th>2</th>\n",
       "      <td>B201 (blocoAP)</td>\n",
       "      <td>[03/06/2022, 03/07/2022]</td>\n",
       "      <td>[07/06/2022, 03/07/2022]</td>\n",
       "      <td>[$ 1200,0 reais, $ 2700,0 reais]</td>\n",
       "    </tr>\n",
       "    <tr>\n",
       "      <th>3</th>\n",
       "      <td>B202 (blocoAP)</td>\n",
       "      <td>[04/06/2022, 04/07/2022]</td>\n",
       "      <td>[07/06/2022, 05/07/2022]</td>\n",
       "      <td>[$ 1300,0 reais, $ 2800,0 reais]</td>\n",
       "    </tr>\n",
       "    <tr>\n",
       "      <th>4</th>\n",
       "      <td>C301 (blocoAP)</td>\n",
       "      <td>[05/06/2022, 05/07/2022]</td>\n",
       "      <td>[10/06/2022, 09/07/2022]</td>\n",
       "      <td>[$ 1400,0 reais, $ 2900,0 reais]</td>\n",
       "    </tr>\n",
       "  </tbody>\n",
       "</table>\n",
       "</div>"
      ],
      "text/plain": [
       "      apartamento datas_combinadas_pagamento        datas_de_pagamento  \\\n",
       "0  A101 (blocoAP)   [01/06/2022, 01/07/2022]  [05/06/2022, 03/07/2022]   \n",
       "1  A102 (blocoAP)   [02/06/2022, 02/07/2022]  [02/06/2022, 06/07/2022]   \n",
       "2  B201 (blocoAP)   [03/06/2022, 03/07/2022]  [07/06/2022, 03/07/2022]   \n",
       "3  B202 (blocoAP)   [04/06/2022, 04/07/2022]  [07/06/2022, 05/07/2022]   \n",
       "4  C301 (blocoAP)   [05/06/2022, 05/07/2022]  [10/06/2022, 09/07/2022]   \n",
       "\n",
       "                      valor_aluguel  \n",
       "0  [$ 1000,0 reais, $ 2500,0 reais]  \n",
       "1  [$ 1100,0 reais, $ 2600,0 reais]  \n",
       "2  [$ 1200,0 reais, $ 2700,0 reais]  \n",
       "3  [$ 1300,0 reais, $ 2800,0 reais]  \n",
       "4  [$ 1400,0 reais, $ 2900,0 reais]  "
      ]
     },
     "execution_count": 3,
     "metadata": {},
     "output_type": "execute_result"
    }
   ],
   "source": [
    "dados = pd.json_normalize(dados['dados_locacao'])\n",
    "dados.head()    "
   ]
  },
  {
   "cell_type": "markdown",
   "metadata": {},
   "source": [
    "DESAFIO 2"
   ]
  },
  {
   "cell_type": "markdown",
   "metadata": {},
   "source": [
    "Lemos a base de dados no desafio anterior, agora podemos avançar nas transformações desses dados. Então, da mesma forma que o projeto 1, o desafio do projeto 2 está listado em algumas metas:"
   ]
  },
  {
   "cell_type": "markdown",
   "metadata": {},
   "source": [
    "Remover os dados em listas dentro do DataFrame;"
   ]
  },
  {
   "cell_type": "code",
   "execution_count": 4,
   "metadata": {},
   "outputs": [
    {
     "data": {
      "text/html": [
       "<div>\n",
       "<style scoped>\n",
       "    .dataframe tbody tr th:only-of-type {\n",
       "        vertical-align: middle;\n",
       "    }\n",
       "\n",
       "    .dataframe tbody tr th {\n",
       "        vertical-align: top;\n",
       "    }\n",
       "\n",
       "    .dataframe thead th {\n",
       "        text-align: right;\n",
       "    }\n",
       "</style>\n",
       "<table border=\"1\" class=\"dataframe\">\n",
       "  <thead>\n",
       "    <tr style=\"text-align: right;\">\n",
       "      <th></th>\n",
       "      <th>apartamento</th>\n",
       "      <th>datas_combinadas_pagamento</th>\n",
       "      <th>datas_de_pagamento</th>\n",
       "      <th>valor_aluguel</th>\n",
       "    </tr>\n",
       "  </thead>\n",
       "  <tbody>\n",
       "    <tr>\n",
       "      <th>0</th>\n",
       "      <td>A101 (blocoAP)</td>\n",
       "      <td>01/06/2022</td>\n",
       "      <td>05/06/2022</td>\n",
       "      <td>$ 1000,0 reais</td>\n",
       "    </tr>\n",
       "    <tr>\n",
       "      <th>1</th>\n",
       "      <td>A101 (blocoAP)</td>\n",
       "      <td>01/07/2022</td>\n",
       "      <td>03/07/2022</td>\n",
       "      <td>$ 2500,0 reais</td>\n",
       "    </tr>\n",
       "    <tr>\n",
       "      <th>2</th>\n",
       "      <td>A102 (blocoAP)</td>\n",
       "      <td>02/06/2022</td>\n",
       "      <td>02/06/2022</td>\n",
       "      <td>$ 1100,0 reais</td>\n",
       "    </tr>\n",
       "    <tr>\n",
       "      <th>3</th>\n",
       "      <td>A102 (blocoAP)</td>\n",
       "      <td>02/07/2022</td>\n",
       "      <td>06/07/2022</td>\n",
       "      <td>$ 2600,0 reais</td>\n",
       "    </tr>\n",
       "    <tr>\n",
       "      <th>4</th>\n",
       "      <td>B201 (blocoAP)</td>\n",
       "      <td>03/06/2022</td>\n",
       "      <td>07/06/2022</td>\n",
       "      <td>$ 1200,0 reais</td>\n",
       "    </tr>\n",
       "  </tbody>\n",
       "</table>\n",
       "</div>"
      ],
      "text/plain": [
       "      apartamento datas_combinadas_pagamento datas_de_pagamento  \\\n",
       "0  A101 (blocoAP)                 01/06/2022         05/06/2022   \n",
       "1  A101 (blocoAP)                 01/07/2022         03/07/2022   \n",
       "2  A102 (blocoAP)                 02/06/2022         02/06/2022   \n",
       "3  A102 (blocoAP)                 02/07/2022         06/07/2022   \n",
       "4  B201 (blocoAP)                 03/06/2022         07/06/2022   \n",
       "\n",
       "    valor_aluguel  \n",
       "0  $ 1000,0 reais  \n",
       "1  $ 2500,0 reais  \n",
       "2  $ 1100,0 reais  \n",
       "3  $ 2600,0 reais  \n",
       "4  $ 1200,0 reais  "
      ]
     },
     "execution_count": 4,
     "metadata": {},
     "output_type": "execute_result"
    }
   ],
   "source": [
    "colunas = list(dados.columns)\n",
    "\n",
    "dados = dados.explode(colunas[1:])\n",
    "dados.reset_index(drop = True, inplace = True)\n",
    "dados.head()"
   ]
  },
  {
   "cell_type": "markdown",
   "metadata": {},
   "source": [
    "Verificar os tipos de dados;"
   ]
  },
  {
   "cell_type": "code",
   "execution_count": 5,
   "metadata": {},
   "outputs": [
    {
     "name": "stdout",
     "output_type": "stream",
     "text": [
      "<class 'pandas.core.frame.DataFrame'>\n",
      "RangeIndex: 30 entries, 0 to 29\n",
      "Data columns (total 4 columns):\n",
      " #   Column                      Non-Null Count  Dtype \n",
      "---  ------                      --------------  ----- \n",
      " 0   apartamento                 30 non-null     object\n",
      " 1   datas_combinadas_pagamento  30 non-null     object\n",
      " 2   datas_de_pagamento          30 non-null     object\n",
      " 3   valor_aluguel               30 non-null     object\n",
      "dtypes: object(4)\n",
      "memory usage: 1.1+ KB\n"
     ]
    }
   ],
   "source": [
    "dados.info()"
   ]
  },
  {
   "cell_type": "markdown",
   "metadata": {},
   "source": [
    "Identificar colunas numéricas;"
   ]
  },
  {
   "cell_type": "code",
   "execution_count": 6,
   "metadata": {},
   "outputs": [
    {
     "data": {
      "text/plain": [
       "0     $ 1000,0 reais\n",
       "1     $ 2500,0 reais\n",
       "2     $ 1100,0 reais\n",
       "3     $ 2600,0 reais\n",
       "4     $ 1200,0 reais\n",
       "5     $ 2700,0 reais\n",
       "6     $ 1300,0 reais\n",
       "7     $ 2800,0 reais\n",
       "8     $ 1400,0 reais\n",
       "9     $ 2900,0 reais\n",
       "10    $ 1500,0 reais\n",
       "11    $ 1200,0 reais\n",
       "12    $ 1600,0 reais\n",
       "13    $ 1300,0 reais\n",
       "14    $ 1700,0 reais\n",
       "15    $ 1400,0 reais\n",
       "16    $ 1800,0 reais\n",
       "17    $ 1500,0 reais\n",
       "18    $ 1900,0 reais\n",
       "19    $ 1600,0 reais\n",
       "20    $ 2000,0 reais\n",
       "21    $ 1000,0 reais\n",
       "22    $ 2100,0 reais\n",
       "23    $ 1100,0 reais\n",
       "24    $ 2200,0 reais\n",
       "25    $ 1200,0 reais\n",
       "26    $ 2300,0 reais\n",
       "27    $ 2100,0 reais\n",
       "28    $ 2400,0 reais\n",
       "29    $ 2200,0 reais\n",
       "Name: valor_aluguel, dtype: object"
      ]
     },
     "execution_count": 6,
     "metadata": {},
     "output_type": "execute_result"
    }
   ],
   "source": [
    "dados['valor_aluguel']"
   ]
  },
  {
   "cell_type": "markdown",
   "metadata": {},
   "source": [
    "Transformar a coluna numérica para o tipo numérico."
   ]
  },
  {
   "cell_type": "code",
   "execution_count": 7,
   "metadata": {},
   "outputs": [
    {
     "name": "stdout",
     "output_type": "stream",
     "text": [
      "0    1000.0\n",
      "1    2500.0\n",
      "2    1100.0\n",
      "3    2600.0\n",
      "4    1200.0\n",
      "Name: valor_aluguel, dtype: float64\n",
      "<class 'pandas.core.frame.DataFrame'>\n",
      "RangeIndex: 30 entries, 0 to 29\n",
      "Data columns (total 4 columns):\n",
      " #   Column                      Non-Null Count  Dtype  \n",
      "---  ------                      --------------  -----  \n",
      " 0   apartamento                 30 non-null     object \n",
      " 1   datas_combinadas_pagamento  30 non-null     object \n",
      " 2   datas_de_pagamento          30 non-null     object \n",
      " 3   valor_aluguel               30 non-null     float64\n",
      "dtypes: float64(1), object(3)\n",
      "memory usage: 1.1+ KB\n"
     ]
    }
   ],
   "source": [
    "dados['valor_aluguel'] = dados['valor_aluguel'].apply(lambda x: x.replace('$ ', '').replace(',', '.').replace(' reais', '').strip()).astype(np.float64)\n",
    "print(dados['valor_aluguel'].head())\n",
    "dados.info()\n"
   ]
  },
  {
   "cell_type": "markdown",
   "metadata": {},
   "source": [
    "Desafio 3"
   ]
  },
  {
   "cell_type": "markdown",
   "metadata": {},
   "source": [
    "Na etapa 2, trabalhamos na transformação dos dados numéricos. Agora, podemos trabalhar com valores textuais.\n",
    "\n",
    "Buscando explicar a organização da identificação dos apartamentos, durante a criação do conjunto de dados, foi adicionado o texto (blocoAP). Esse texto informa que os nomes dos apartamentos estão organizados com a letra do bloco seguida do número do apartamento. No entanto, isso não traz nenhuma informação para nossos dados, sendo interessante realizar a remoção desse texto no conjunto de dados.\n",
    "\n",
    "Com isso, manipule os textos na coluna apartamento para remover o texto (blocoAP) do DataFrame."
   ]
  },
  {
   "cell_type": "code",
   "execution_count": 18,
   "metadata": {},
   "outputs": [
    {
     "data": {
      "text/html": [
       "<div>\n",
       "<style scoped>\n",
       "    .dataframe tbody tr th:only-of-type {\n",
       "        vertical-align: middle;\n",
       "    }\n",
       "\n",
       "    .dataframe tbody tr th {\n",
       "        vertical-align: top;\n",
       "    }\n",
       "\n",
       "    .dataframe thead th {\n",
       "        text-align: right;\n",
       "    }\n",
       "</style>\n",
       "<table border=\"1\" class=\"dataframe\">\n",
       "  <thead>\n",
       "    <tr style=\"text-align: right;\">\n",
       "      <th></th>\n",
       "      <th>apartamento</th>\n",
       "      <th>datas_combinadas_pagamento</th>\n",
       "      <th>datas_de_pagamento</th>\n",
       "      <th>valor_aluguel</th>\n",
       "    </tr>\n",
       "  </thead>\n",
       "  <tbody>\n",
       "    <tr>\n",
       "      <th>0</th>\n",
       "      <td>A101</td>\n",
       "      <td>01/06/2022</td>\n",
       "      <td>05/06/2022</td>\n",
       "      <td>1000.0</td>\n",
       "    </tr>\n",
       "    <tr>\n",
       "      <th>1</th>\n",
       "      <td>A101</td>\n",
       "      <td>01/07/2022</td>\n",
       "      <td>03/07/2022</td>\n",
       "      <td>2500.0</td>\n",
       "    </tr>\n",
       "    <tr>\n",
       "      <th>2</th>\n",
       "      <td>A102</td>\n",
       "      <td>02/06/2022</td>\n",
       "      <td>02/06/2022</td>\n",
       "      <td>1100.0</td>\n",
       "    </tr>\n",
       "    <tr>\n",
       "      <th>3</th>\n",
       "      <td>A102</td>\n",
       "      <td>02/07/2022</td>\n",
       "      <td>06/07/2022</td>\n",
       "      <td>2600.0</td>\n",
       "    </tr>\n",
       "    <tr>\n",
       "      <th>4</th>\n",
       "      <td>B201</td>\n",
       "      <td>03/06/2022</td>\n",
       "      <td>07/06/2022</td>\n",
       "      <td>1200.0</td>\n",
       "    </tr>\n",
       "  </tbody>\n",
       "</table>\n",
       "</div>"
      ],
      "text/plain": [
       "  apartamento datas_combinadas_pagamento datas_de_pagamento  valor_aluguel\n",
       "0       A101                  01/06/2022         05/06/2022         1000.0\n",
       "1       A101                  01/07/2022         03/07/2022         2500.0\n",
       "2       A102                  02/06/2022         02/06/2022         1100.0\n",
       "3       A102                  02/07/2022         06/07/2022         2600.0\n",
       "4       B201                  03/06/2022         07/06/2022         1200.0"
      ]
     },
     "execution_count": 18,
     "metadata": {},
     "output_type": "execute_result"
    }
   ],
   "source": [
    "dados['apartamento'] = dados['apartamento'].str.replace(r'\\(blocoAP\\)', '', regex = True)\n",
    "dados.head()"
   ]
  },
  {
   "cell_type": "markdown",
   "metadata": {},
   "source": [
    "Desafio 4"
   ]
  },
  {
   "cell_type": "markdown",
   "metadata": {},
   "source": [
    "Nas colunas datas_de_pagamento e datas_combinadas_pagamento, temos datas em formato 'dia/mês/ano' (dd/mm/AAAA). Transforme esses dados para o tipo datetime e busque uma forma de visualização de subconjunto que possa contribuir no objetivo do contexto que os dados estão inseridos.\n",
    "\n",
    "Se você não lembra o problema do projeto desafio 2, vou deixar abaixo o texto da situação para facilitar o encontro da informação:\n",
    "\n",
    "A administração de condomínios é uma tarefa que requer muita atenção e organização. Entre as diversas responsabilidades da gestão está o recebimento dos aluguéis dos locatários. Para garantir uma boa saúde financeira do empreendimento, é fundamental que esses pagamentos sejam feitos de forma regular e pontual. No entanto, sabemos que nem sempre isso acontece. Pensando nisso, proponho um desafio de tratamento de dados com o objetivo de analisar o atraso no pagamento de aluguéis no condomínio fictício de alguns moradores."
   ]
  },
  {
   "cell_type": "code",
   "execution_count": 21,
   "metadata": {},
   "outputs": [
    {
     "name": "stdout",
     "output_type": "stream",
     "text": [
      "<class 'pandas.core.frame.DataFrame'>\n",
      "RangeIndex: 30 entries, 0 to 29\n",
      "Data columns (total 4 columns):\n",
      " #   Column                      Non-Null Count  Dtype         \n",
      "---  ------                      --------------  -----         \n",
      " 0   apartamento                 30 non-null     object        \n",
      " 1   datas_combinadas_pagamento  30 non-null     datetime64[ns]\n",
      " 2   datas_de_pagamento          30 non-null     datetime64[ns]\n",
      " 3   valor_aluguel               30 non-null     float64       \n",
      "dtypes: datetime64[ns](2), float64(1), object(1)\n",
      "memory usage: 1.1+ KB\n"
     ]
    }
   ],
   "source": [
    "dados['datas_de_pagamento'] = pd.to_datetime(dados['datas_de_pagamento'], format = '%d/%m/%Y')\n",
    "dados['datas_combinadas_pagamento'] = pd.to_datetime(dados['datas_combinadas_pagamento'], format = '%d/%m/%Y')\n",
    "dados.info()"
   ]
  },
  {
   "cell_type": "code",
   "execution_count": 25,
   "metadata": {},
   "outputs": [],
   "source": [
    "dados['atraso'] = (dados['datas_de_pagamento'] - dados['datas_combinadas_pagamento']).dt.days"
   ]
  },
  {
   "cell_type": "code",
   "execution_count": 26,
   "metadata": {},
   "outputs": [
    {
     "data": {
      "text/plain": [
       "apartamento\n",
       "A101     3.0\n",
       "A102     2.0\n",
       "B201     2.0\n",
       "B202     2.0\n",
       "C301     4.5\n",
       "C302     4.0\n",
       "D401     1.0\n",
       "D402     4.0\n",
       "E501     0.5\n",
       "E502     4.0\n",
       "F601     4.0\n",
       "F602     1.5\n",
       "G701     6.5\n",
       "G702     2.0\n",
       "H801     2.0\n",
       "Name: atraso, dtype: float64"
      ]
     },
     "execution_count": 26,
     "metadata": {},
     "output_type": "execute_result"
    }
   ],
   "source": [
    "media_atraso = dados.groupby(['apartamento'])['atraso'].mean()\n",
    "media_atraso"
   ]
  }
 ],
 "metadata": {
  "kernelspec": {
   "display_name": "Python 3",
   "language": "python",
   "name": "python3"
  },
  "language_info": {
   "codemirror_mode": {
    "name": "ipython",
    "version": 3
   },
   "file_extension": ".py",
   "mimetype": "text/x-python",
   "name": "python",
   "nbconvert_exporter": "python",
   "pygments_lexer": "ipython3",
   "version": "3.12.6"
  }
 },
 "nbformat": 4,
 "nbformat_minor": 2
}
