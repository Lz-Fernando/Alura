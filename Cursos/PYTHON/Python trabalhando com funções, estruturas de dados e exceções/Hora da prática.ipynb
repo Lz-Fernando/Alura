{
 "cells": [
  {
   "cell_type": "markdown",
   "metadata": {
    "id": "_kwAaQ36gLQ1"
   },
   "source": [
    "# Sobre o notebook\n",
    "\n",
    "A \"hora da prática\" é uma atividade do curso de Python para Data Science da Alura que contém diversos desafios envolvendo os aprendizados de cada aula.\n",
    "\n",
    "O notebook \"hora da prática\" é um notebook construído com espaço para as células dos desafios propostos no curso, com ele você tem espaço para construir e executar suas soluções"
   ]
  },
  {
   "cell_type": "markdown",
   "metadata": {
    "id": "Mc-KN0dA0Z83"
   },
   "source": [
    "## Aula 1 - Bibliotecas"
   ]
  },
  {
   "cell_type": "markdown",
   "metadata": {
    "id": "Dq02fNPCl_JV"
   },
   "source": [
    "### Aquecimento"
   ]
  },
  {
   "cell_type": "markdown",
   "metadata": {
    "id": "l5eLWf0W0ikn"
   },
   "source": [
    "#### Questão 1\n",
    "\n",
    "Escreva um código para instalar a versão `3.7.1` da biblioteca `matplotlib`"
   ]
  },
  {
   "cell_type": "code",
   "execution_count": null,
   "metadata": {
    "id": "m4b6NquSaj3q"
   },
   "outputs": [],
   "source": [
    "!pip install mathplotlib=3.7.1"
   ]
  },
  {
   "cell_type": "markdown",
   "metadata": {
    "id": "tQdX90Ue03c7"
   },
   "source": [
    "#### Questão 2\n",
    "\n",
    "Escreva um código para importar a biblioteca `numpy` com o alias `np`"
   ]
  },
  {
   "cell_type": "code",
   "execution_count": null,
   "metadata": {
    "id": "Gh8aZUwaakuT"
   },
   "outputs": [],
   "source": [
    "import numpy as np"
   ]
  },
  {
   "cell_type": "markdown",
   "metadata": {
    "id": "gfg-aiip03vC"
   },
   "source": [
    "#### Questão 3\n",
    "Crie um programa que lê a seguinte lista de números e escolha um número desta aleatoriamente.\n",
    "```\n",
    "lista = [8, 12, 54, 23, 43, 1, 90, 87, 105, 77]\n",
    "```"
   ]
  },
  {
   "cell_type": "code",
   "execution_count": null,
   "metadata": {
    "id": "Sla71KJQalws"
   },
   "outputs": [
    {
     "data": {
      "text/plain": [
       "Número escolhido: 12\n"
      ]
     },
     "metadata": {},
     "output_type": "display_data"
    }
   ],
   "source": [
    "from random import choice\n",
    "\n",
    "lista = [8, 12, 54, 23, 43, 1, 90, 87, 105, 77]\n",
    "print(f\"Número escolhido: {choice(lista)}\")"
   ]
  },
  {
   "cell_type": "markdown",
   "metadata": {
    "id": "oadrJbl704MM"
   },
   "source": [
    "#### Questão 4\n",
    "\n",
    "Crie um programa que sorteia aleatoriamente um número inteiro menor que 100. \n",
    "> Dica: use a função [`randrange()`](https://docs.python.org/3/library/random.html#random.randrange) da biblioteca `random`. Essa função recebe como parâmetro o valor limite para a escolha aleatória ou um intervalo se passado o limite mínimo e máximo. Por exemplo, `randrange(5)` gera valores inteiros menores que 5. \n"
   ]
  },
  {
   "cell_type": "code",
   "execution_count": null,
   "metadata": {
    "id": "UZSpqpOuanFT"
   },
   "outputs": [
    {
     "data": {
      "text/plain": [
       "12\n"
      ]
     },
     "metadata": {},
     "output_type": "display_data"
    }
   ],
   "source": [
    "from random import randrange\n",
    "\n",
    "escolha_random = randrange(100)\n",
    "print(escolha_random)"
   ]
  },
  {
   "cell_type": "markdown",
   "metadata": {
    "id": "3RgyMaan04TD"
   },
   "source": [
    "#### Questão 5\n",
    "Crie um programa que solicite à pessoa usuária digitar dois números inteiros e calcular a potência do 1º número elevado ao 2º. \n",
    "> Dica: use a função [`pow()`](https://docs.python.org/3/library/random.html#random.randrange) da biblioteca `math` \n"
   ]
  },
  {
   "cell_type": "code",
   "execution_count": null,
   "metadata": {
    "id": "UOzl8la0aoBd"
   },
   "outputs": [
    {
     "data": {
      "text/plain": [
       "10 elevado a 2 é igual a 100.0\n"
      ]
     },
     "metadata": {},
     "output_type": "display_data"
    }
   ],
   "source": [
    "from math import pow\n",
    "\n",
    "numero1 = int(input(\"Digite um número: \"))\n",
    "numero2 = int(input(\"Digite outro número: \"))\n",
    "\n",
    "print(f\"{numero1} elevado a {numero2} é igual a {pow(numero1, numero2)}\")"
   ]
  },
  {
   "cell_type": "markdown",
   "metadata": {
    "id": "ieCkWjvEmJU0"
   },
   "source": [
    "### Aplicando a projetos"
   ]
  },
  {
   "cell_type": "markdown",
   "metadata": {
    "id": "0rS4QHP1mXQE"
   },
   "source": [
    "#### Questão 6\n",
    "Um programa deve ser escrito para sortear uma pessoa seguidora de uma rede social para ganhar um prêmio. A lista de participantes é numerada e devemos escolher aleatoriamente um número de acordo com a quantidade de participantes.\n",
    "\n",
    "Peça à pessoa usuária para fornecer o número de participantes do sorteio e devolva para ela o número sorteado."
   ]
  },
  {
   "cell_type": "code",
   "execution_count": null,
   "metadata": {
    "id": "G4k5jUdAao8t"
   },
   "outputs": [
    {
     "data": {
      "text/plain": [
       "O número sorteado foi 4\n"
      ]
     },
     "metadata": {},
     "output_type": "display_data"
    }
   ],
   "source": [
    "from random import randint\n",
    "\n",
    "n = int(input(\"Digite o nº de participantes do sorteio: \"))\n",
    "\n",
    "print(f\"O número sorteado foi {randint(1, n)}\")"
   ]
  },
  {
   "cell_type": "markdown",
   "metadata": {
    "id": "9D6cd4tomhSi"
   },
   "source": [
    "#### Questão 7\n",
    "\n",
    "Você recebeu uma demanda para gerar números de token para o acesso ao aplicativo de uma empresa. O token precisa ser par e variar de 1000 até 9998. Escreva um código que solicita à pessoa usuária o seu nome e gera uma mensagem junto a esse token gerado aleatoriamente:\n",
    "\n",
    "`\"Olá, [nome], o seu token de acesso é [token]! Seja bem-vindo(a)!\"`"
   ]
  },
  {
   "cell_type": "code",
   "execution_count": null,
   "metadata": {
    "id": "Y4ACJ4rEaqQW"
   },
   "outputs": [
    {
     "data": {
      "text/plain": [
       "Óla Fernando, o seu token de acesso é 7746! Seja bem-vindo(a)!\n"
      ]
     },
     "metadata": {},
     "output_type": "display_data"
    }
   ],
   "source": [
    "from random import randrange\n",
    "\n",
    "nome = input(\"Digite o seu nome: \")\n",
    "\n",
    "token = randrange(1000, 10000, 2)\n",
    "\n",
    "print(f\"Óla {nome}, o seu token de acesso é {token}! Seja bem-vindo(a)!\")"
   ]
  },
  {
   "cell_type": "markdown",
   "metadata": {
    "id": "FHJHH_WemhFJ"
   },
   "source": [
    "#### Questão 8\n",
    "Para diversificar e atrair novos clientes, uma lanchonete criou um item misterioso em seu cardápio chamado \"salada de frutas surpresa\". Neste item, são escolhidas aleatoriamente 3 frutas de uma lista de 12 frutas para compor a salada de frutas da pessoa cliente.\n",
    "\n",
    "Crie o código que faça essa seleção aleatória de acordo com a lista abaixo:\n",
    "\n",
    "```\n",
    "frutas = [\"maçã\", \"banana\", \"uva\", \"pêra\", \n",
    "          \"manga\", \"coco\", \"melancia\", \"mamão\",\n",
    "          \"laranja\", \"abacaxi\", \"kiwi\", \"ameixa\"]\n",
    "```"
   ]
  },
  {
   "cell_type": "code",
   "execution_count": null,
   "metadata": {
    "id": "gR0BNVGoarOv"
   },
   "outputs": [
    {
     "data": {
      "text/plain": [
       "Sua salada de frutas surpresa é composta por banana, kiwi e coco!\n"
      ]
     },
     "metadata": {},
     "output_type": "display_data"
    }
   ],
   "source": [
    "from random import choices\n",
    "\n",
    "frutas = [\"maçã\", \"banana\", \"uva\", \"pêra\", \n",
    "          \"manga\", \"coco\", \"melancia\", \"mamão\",\n",
    "          \"laranja\", \"abacaxi\", \"kiwi\", \"ameixa\"]\n",
    "\n",
    "salada = choices(frutas, k=3)\n",
    "\n",
    "print(f\"Sua salada de frutas surpresa é composta por {salada[0]}, {salada[1]} e {salada[2]}!\")"
   ]
  },
  {
   "cell_type": "markdown",
   "metadata": {
    "id": "m_voDwY9mhNJ"
   },
   "source": [
    "#### Questão 9\n",
    "Você recebeu um desafio de calcular a raiz quadrada de uma lista de números, identificando quais resultaram em um número inteiro. A lista é a seguinte:\n",
    "```\n",
    "numeros = [2, 8, 15, 23, 91, 112, 256]\n",
    "```\n",
    "\n",
    "Informe no final quais números possuem raízes inteiras e seus respectivos valores.\n",
    "\n",
    "> Dica: use a comparação entre a divisão inteira da raiz por 1 com o valor da raiz para verificar se o número é inteiro. Por exemplo:\n",
    "```\n",
    "num = 1.5\n",
    "num_2 = 2\n",
    "print(f'{num} é inteiro? :', num // 1 == num)\n",
    "print(f'{num_2} é inteiro? :', num_2 // 1 == num_2)\n",
    "```\n",
    "Saída:\n",
    "```\n",
    "1.5 é inteiro? : False\n",
    "2 é inteiro? : True\n",
    "```"
   ]
  },
  {
   "cell_type": "code",
   "execution_count": null,
   "metadata": {
    "id": "80eu9G8HaswW"
   },
   "outputs": [
    {
     "data": {
      "text/plain": [
       "1.4142135623730951 é inteiro? : False\n",
       "2.8284271247461903 é inteiro? : False\n",
       "3.872983346207417 é inteiro? : False\n",
       "4.795831523312719 é inteiro? : False\n",
       "9.539392014169456 é inteiro? : False\n",
       "10.583005244258363 é inteiro? : False\n",
       "16.0 é inteiro? : True\n"
      ]
     },
     "metadata": {},
     "output_type": "display_data"
    }
   ],
   "source": [
    "from math import sqrt\n",
    "\n",
    "numeros = [2, 8, 15, 23, 91, 112, 256]\n",
    "\n",
    "for numero in numeros :\n",
    "    raiz = sqrt(numero)\n",
    "    print(f\"{raiz} é inteiro? :\", raiz // 1 == raiz)\n"
   ]
  },
  {
   "cell_type": "markdown",
   "metadata": {
    "id": "dBl0iKd7mhYA"
   },
   "source": [
    "#### Questão 10\n",
    "Faça um programa para uma loja que vende grama para jardins. Essa loja trabalha com jardins circulares e o preço do metro quadrado da grama é de R$ 25,00. Peça à pessoa usuária o raio da área circular e devolva o valor em reais do quanto precisará pagar.  \n",
    "\n",
    "> Dica: use a variável [`pi`](https://docs.python.org/pt-br/3/library/math.html#math.pi) e o método [`pow()`](https://docs.python.org/3/library/random.html#random.randrange) da biblioteca `math`. O cálculo de área de um círculo é de: $Area = \\pi \\times r^2$"
   ]
  },
  {
   "cell_type": "code",
   "execution_count": null,
   "metadata": {
    "id": "VK0RHwYIattI"
   },
   "outputs": [
    {
     "data": {
      "text/plain": [
       "O valor ficou R$7850.00\n"
      ]
     },
     "metadata": {},
     "output_type": "display_data"
    }
   ],
   "source": [
    "from math import pi, pow\n",
    "\n",
    "raio = float(input(\"Digite o tamanho do raio da área cicular: \"))\n",
    "\n",
    "area = pi * pow(raio, 2)\n",
    "valor = area * 25.00\n",
    "\n",
    "print(f\"O valor ficou R${valor:.2f}\")"
   ]
  },
  {
   "cell_type": "markdown",
   "metadata": {
    "id": "D9e3FqhO1S3X"
   },
   "source": [
    "## Aula 2 - Funções"
   ]
  },
  {
   "cell_type": "markdown",
   "metadata": {
    "id": "DTBxjtxXa1dz"
   },
   "source": [
    "### Aquecimento"
   ]
  },
  {
   "cell_type": "markdown",
   "metadata": {
    "id": "dedVZJ3fa1dz"
   },
   "source": [
    "#### Questão 1\n",
    "\n",
    "Escreva um código que lê a lista abaixo e faça:\n",
    "\n",
    "```\n",
    "lista = [16, 14, 63, 65, 17, 99, 70, 11, 20, 48, 79, 32, 17, 89, 12, 25, 66]\n",
    "```\n",
    "\n",
    "- A leitura do tamanho da lista\n",
    "- A leitura do maior e menor valor\n",
    "- A soma dos valores da lista\n",
    "\n",
    "Ao final exiba uma mensagem dizendo:\n",
    "\n",
    "```\n",
    "\"A lista possui [tam] números em que o maior número é [maior] e o menor número é [menor]. A soma dos valores pares presentes nela é igual a [soma]\"\n",
    "```\n",
    "\n",
    "> Dica: use as funções embutidas presentes na [documentação do Python](https://docs.python.org/3/library/functions.html)\n"
   ]
  },
  {
   "cell_type": "code",
   "execution_count": 25,
   "metadata": {
    "id": "KrGD5Nl5a1dz"
   },
   "outputs": [
    {
     "name": "stdout",
     "output_type": "stream",
     "text": [
      "17\n",
      "743\n",
      "99\n",
      "11\n"
     ]
    }
   ],
   "source": [
    "lista = [16, 14, 63, 65, 17, 99, 70, 11, 20, 48, 79, 32, 17, 89, 12, 25, 66]\n",
    "\n",
    "tamanha_lista = len(lista)\n",
    "maior = max(lista)\n",
    "menor = min(lista)\n",
    "soma_lista = sum(lista)\n",
    "\n",
    "print(tamanha_lista)\n",
    "print(soma_lista)\n",
    "print(maior)\n",
    "print(menor)"
   ]
  },
  {
   "cell_type": "markdown",
   "metadata": {
    "id": "435rt7sha1dz"
   },
   "source": [
    "#### Questão 2\n",
    "\n",
    "Escreva uma função que gere a tabuada de um número inteiro de 1 a 10, de acordo com a escolha da pessoa usuária. Como exemplo, para o número 7, a tabuada deve ser mostrada no seguinte formato:\n",
    "```\n",
    "Tabuada do 7:\n",
    "7 x 0 = 0\n",
    "7 x 1 = 7\n",
    "[...]\n",
    "7 x 10 = 70\n",
    "```\n"
   ]
  },
  {
   "cell_type": "code",
   "execution_count": 15,
   "metadata": {
    "id": "DxHuhb19a1d0"
   },
   "outputs": [
    {
     "name": "stdout",
     "output_type": "stream",
     "text": [
      "Tabuada do 5:\n",
      "5 x 0 = 0\n",
      "5 x 1 = 5\n",
      "5 x 2 = 10\n",
      "5 x 3 = 15\n",
      "5 x 4 = 20\n",
      "5 x 5 = 25\n",
      "5 x 6 = 30\n",
      "5 x 7 = 35\n",
      "5 x 8 = 40\n",
      "5 x 9 = 45\n",
      "5 x 10 = 50\n"
     ]
    }
   ],
   "source": [
    "numero = int(input(\"Digite um número inteiro de 1 a 10:\"))\n",
    "\n",
    "def tabuada(numero) :\n",
    "  print(f'Tabuada do {numero}:')\n",
    "  for i in range(11) :\n",
    "    print(f\"{numero} x {i} = {numero * i}\")    \n",
    "    \n",
    "tabuada(numero)"
   ]
  },
  {
   "cell_type": "markdown",
   "metadata": {
    "id": "OwoNphMPa1d0"
   },
   "source": [
    "#### Questão 3\n",
    "Crie a função que leia a lista abaixo e retorne uma nova lista com os múltiplos de 3:\n",
    "\n",
    "```\n",
    "[97, 80, 94, 88, 80, 1, 16, 53, 62, 32, 24, 99]\n",
    "```\n",
    "\n",
    "Utilize o `return` na função e salve a nova lista na variável `mult_3`."
   ]
  },
  {
   "cell_type": "code",
   "execution_count": 17,
   "metadata": {
    "id": "kYrKxhd8a1d0"
   },
   "outputs": [
    {
     "data": {
      "text/plain": [
       "[24, 99]"
      ]
     },
     "execution_count": 17,
     "metadata": {},
     "output_type": "execute_result"
    }
   ],
   "source": [
    "lista = [97, 80, 94, 88, 80, 1, 16, 53, 62, 32, 24, 99]\n",
    "mult_3 = []\n",
    "\n",
    "def verificar_multiplos(lista):\n",
    "  for numero in lista:\n",
    "    if numero % 3 == 0:\n",
    "      mult_3.append(numero)\n",
    "\n",
    "  return mult_3\n",
    "\n",
    "verificar_multiplos(lista)\n"
   ]
  },
  {
   "cell_type": "markdown",
   "metadata": {
    "id": "kFkuo_SUa1d0"
   },
   "source": [
    "#### Questão 4\n",
    "Crie uma lista dos quadrados dos números da seguinte lista `[1, 2, 3, 4, 5, 6, 7, 8, 9, 10]`.\n",
    "\n",
    "Lembre-se de utilizar as funções lambda e `map()` para calcular o quadrado de cada elemento da lista.\n"
   ]
  },
  {
   "cell_type": "code",
   "execution_count": 18,
   "metadata": {
    "id": "Iav68EpKa1d0"
   },
   "outputs": [
    {
     "data": {
      "text/plain": [
       "[1, 4, 9, 16, 25, 36, 49, 64, 81, 100]"
      ]
     },
     "execution_count": 18,
     "metadata": {},
     "output_type": "execute_result"
    }
   ],
   "source": [
    "numeros = [1, 2, 3, 4, 5, 6, 7, 8, 9, 10]\n",
    "\n",
    "quadrado = map(lambda numero: pow(numero, 2), numeros)\n",
    "resultado = list(quadrado)\n",
    "resultado"
   ]
  },
  {
   "cell_type": "markdown",
   "metadata": {
    "id": "PX7G0Qgha1d0"
   },
   "source": [
    "### Aplicando a projetos"
   ]
  },
  {
   "cell_type": "markdown",
   "metadata": {
    "id": "oVWgrilxa1d0"
   },
   "source": [
    "#### Questão 5\n",
    "\n",
    "Você foi contratado(a) como cientista de dados de uma associação de skate. Para analisar as notas recebidas dos(as) skatistas em algumas competições ao longo do ano, você precisa criar um código que calcula a pontuação dos(as) atletas. Para isso, o seu código deve receber 5 notas digitadas pelas pessoas juradas.\n",
    "\n",
    "Para calcular a pontuação de um(a) skatista, você precisa eliminar a maior e a menor pontuação dentre as 5 notas e tirar a média das 3 notas que sobraram.\n",
    "\n",
    "Retorne a média para apresentar o texto:\n",
    "`\"Nota da manobra: [media]\"`\n",
    "\n"
   ]
  },
  {
   "cell_type": "code",
   "execution_count": 20,
   "metadata": {
    "id": "1nbQ-hIRa1d0"
   },
   "outputs": [
    {
     "name": "stdout",
     "output_type": "stream",
     "text": [
      "[10.0, 9.0, 8.0, 7.0, 6.0]\n",
      "Nota da manobra: 8.00\n"
     ]
    }
   ],
   "source": [
    "notas = []\n",
    "\n",
    "for i in range(5):\n",
    "  notas.append(float(input(f\"Digite a {i}º nota: \")))\n",
    "  \n",
    "print(notas)\n",
    "\n",
    "def media(lista):\n",
    "  lista.remove(max(lista))\n",
    "  lista.remove(min(lista))\n",
    "  return sum(lista) / len(lista)\n",
    "\n",
    "media = media(notas)\n",
    "print(f\"Nota da manobra: {media:.2f}\")"
   ]
  },
  {
   "cell_type": "markdown",
   "metadata": {
    "id": "p3MnWjnda1d0"
   },
   "source": [
    "#### Questão 6\n",
    "\n",
    "Para atender a uma demanda de uma instituição de ensino para a análise do desempenho de seus(suas) estudantes, você precisa criar uma função que receba uma lista de 4 notas e retorne:\n",
    "- maior nota\n",
    "- menor nota\n",
    "- média\n",
    "- situação (Aprovado(a) ou Reprovado(a))\n",
    "\n",
    "Para testar o comportamento da função, os dados podem ser exibidos em um texto:\n",
    "```\n",
    "\"O(a) estudante obteve uma media de [media], com a sua maior nota de [maior] pontos e a menor nota de [menor] pontos e foi [situacao]\"\n",
    "```"
   ]
  },
  {
   "cell_type": "code",
   "execution_count": null,
   "metadata": {
    "id": "5Bx-K65ya1d0"
   },
   "outputs": [
    {
     "name": "stdout",
     "output_type": "stream",
     "text": [
      "O(a) estudante obteve uma media de 8.5, com a sua maior nota de 10.0 pontos e a menor nota de 7.0 pontos e foi Aprovado\n"
     ]
    }
   ],
   "source": [
    "notas = []\n",
    "\n",
    "for i in range(1,5):\n",
    "  nota = float(input(f\"Digite a {i}ª nota: \"))\n",
    "  notas.append(nota)\n",
    "\n",
    "def desempenho(notas):\n",
    "  maior = max(notas)\n",
    "  menor = min(notas)\n",
    "  media = sum(notas) / len(notas)\n",
    "  \n",
    "  if(media > 6):\n",
    "    situacao = \"Aprovado\"\n",
    "  else:\n",
    "    situacao = \"Reprovado\"\n",
    "  \n",
    "  return print(f\"O(a) estudante obteve uma media de {media}, com a sua maior nota de {maior} pontos e a menor nota de {menor} pontos e foi {situacao}\")\n",
    "\n",
    "desempenho(notas)"
   ]
  },
  {
   "cell_type": "markdown",
   "metadata": {
    "id": "_sPZj_x9a1d0"
   },
   "source": [
    "#### Questão 7\n",
    "\n",
    "Você recebeu uma demanda para tratar 2 listas com os nomes e sobrenomes de cada estudante concatenando-as para apresentar seus nomes completos na forma `Nome Sobrenome`.\n",
    "\n",
    "As listas são:\n",
    "```\n",
    "nomes = [\"joão\", \"MaRia\", \"JOSÉ\"]\n",
    "sobrenomes = [\"SILVA\", \"souza\", \"Tavares\"]\n",
    "```\n",
    "\n",
    "O texto exibido ao fim deve ser parecido com:\n",
    "```\n",
    "\"Nome completo: Ana Silva\"\n",
    "```\n",
    "\n",
    "> Dica: Utilize a função map para mapear os nomes e sobrenomes e as funções de string para tratar o texto."
   ]
  },
  {
   "cell_type": "code",
   "execution_count": 21,
   "metadata": {
    "id": "SdPq27E-a1d0"
   },
   "outputs": [
    {
     "name": "stdout",
     "output_type": "stream",
     "text": [
      "Nome completo: João Silva\n",
      "Nome completo: Maria Souza\n",
      "Nome completo: José Tavares\n"
     ]
    }
   ],
   "source": [
    "nomes = [\"joão\", \"MaRia\", \"JOSÉ\"]\n",
    "sobrenomes = [\"SILVA\", \"souza\", \"Tavares\"]\n",
    "\n",
    "nome_completo = map(lambda nome, sobrenome: nome.capitalize() + \" \" + sobrenome.capitalize(), nomes, sobrenomes)\n",
    "\n",
    "for n in nome_completo:\n",
    "  print(f'Nome completo: {n}')"
   ]
  },
  {
   "cell_type": "markdown",
   "metadata": {
    "id": "vC2D83mCa1d0"
   },
   "source": [
    "#### Questão 8\n",
    "Como cientista de dados em um time de futebol, você precisa implementar novas formas de coleta de dados sobre o desempenho de jogadores e do time como um todo.\n",
    "\n",
    "Sua primeira ação é criar uma forma de calcular a pontuação do time no campeonato nacional a partir dos dados de gols marcados e sofridos em cada jogo.\n",
    "\n",
    "Escreva uma função chamada `calcula_pontos` que recebe como parâmetros duas listas de números inteiros, representando os gols marcados e sofridos pelo time em cada partida do campeonato.\n",
    "\n",
    "A função deve retornar a pontuação do time e o aproveitamento em percentual, levando em consideração que a vitória vale 3 pontos, o empate vale 1 ponto e a derrota 0 pontos. \n",
    "\n",
    "> Observação: Se a quantidade de gols marcados numa partida for maior que a de sofridos, o time venceu. Caso seja igual, o time empatou e se for menor, o time perdeu. Para calcular o aproveitamento devemos fazer a razão entre a pontuação do time pela pontuação máxima que ele poderia receber. \n",
    "\n",
    "Para teste, utilize as seguintes listas de gols marcados e sofridos\n",
    "```\n",
    "gols_marcados = [2, 1, 3, 1, 0]\n",
    "gols_sofridos = [1, 2, 2, 1, 3]\n",
    "```\n",
    "\n",
    "Provável texto exibido:\n",
    "```\n",
    "\"A pontuação do time foi de [pontos] e seu aproveitamento foi de [aprov]%\"\n",
    "```\n"
   ]
  },
  {
   "cell_type": "code",
   "execution_count": 36,
   "metadata": {
    "id": "zxOwouhta1d0"
   },
   "outputs": [
    {
     "name": "stdout",
     "output_type": "stream",
     "text": [
      "A pontuação do time de 7 e seu aproveitamento foi de 46.67%\n"
     ]
    }
   ],
   "source": [
    "def calcula_pontos(gols_marcados, gols_sofridos):\n",
    "  pontos = 0\n",
    "  \n",
    "  for i in range(len(gols_marcados)):\n",
    "    if(gols_marcados[i] > gols_sofridos[i]):\n",
    "      pontos += 3\n",
    "    elif(gols_marcados[i] == gols_sofridos[i]):\n",
    "      pontos += 1\n",
    "      \n",
    "  pontos_possiveis = 3 * len(gols_marcados)\n",
    "  aproveitamento = (pontos * 100) / pontos_possiveis\n",
    "  \n",
    "  return print(f\"A pontuação do time de {pontos} e seu aproveitamento foi de {aproveitamento:.2f}%\")\n",
    "\n",
    "gols_marcados = [2, 1, 3, 1, 0]\n",
    "gols_sofridos = [1, 2, 2, 1, 3]\n",
    "\n",
    "calcula_pontos(gols_marcados, gols_sofridos)"
   ]
  },
  {
   "cell_type": "markdown",
   "metadata": {
    "id": "QrBlxV7Da1d0"
   },
   "source": [
    "#### Questão 9\n",
    "\n",
    "Você recebeu o desafio de criar um código que calcula os gastos de uma viagem para um das quatro cidades partindo de Recife: Salvador, Fortaleza, Natal e Aracaju.\n",
    "\n",
    "O custo da diária do hotel é de 150 reais em todas elas e o consumo de gasolina na viagem de carro é de 14 km/l, sendo que o valor da gasolina é de 5 reais o litro. O gastos com passeios e alimentação a se fazer em cada uma delas por dia seria de `[200, 400, 250, 300]`, respectivamente.\n",
    "\n",
    "Sabendo que as distâncias entre Recife e cada uma das cidades é de aproximadamente `[850, 800, 300, 550]` km, crie três funções nas quais a 1ª calcule os gastos com hotel (`gasto_hotel`), a 2ª calcule os gastos com a gasolina (`gasto_gasolina`) e a 3ª os gastos com passeio e alimentação (`gasto_passeio`). \n",
    "\n",
    "Para testar, simule uma viagem de 3 dias para Salvador partindo de Recife. Considere a viagem de ida e volta de carro.\n",
    "```\n",
    "\"Com base nos gastos definidos, uma viagem de [dias] dias para [cidade] saindo de Recife custaria [gastos] reais\"\n",
    "```\n"
   ]
  },
  {
   "cell_type": "code",
   "execution_count": 23,
   "metadata": {
    "id": "VQyaLsnWa1d0"
   },
   "outputs": [
    {
     "name": "stdout",
     "output_type": "stream",
     "text": [
      "Com base nos gastos definidos, uma viagem de 3 dias para Salvador saindo de Recife custaria 1353.57 reais\n"
     ]
    }
   ],
   "source": [
    "def gasto_hotel(dias):\n",
    "  return 150 * dias\n",
    "\n",
    "def gasto_gasolina(distancia_litro, valor_litro, distancia_de_recife, destino, cidades):\n",
    "  gastos_gasolina = 0\n",
    "  \n",
    "  for i in range(len(cidades)):\n",
    "    if(destino == cidades[i]):\n",
    "      gastos_gasolina = distancia_de_recife[i] / distancia_litro * valor_litro\n",
    "\n",
    "  return gastos_gasolina\n",
    "\n",
    "def gasto_passeio(gastos_diarios_por_cidade, cidades, destino, dias):\n",
    "  gastos_passeio = 0\n",
    "  \n",
    "  for i in range(len(cidades)):\n",
    "    if(destino == cidades[i]):\n",
    "      gastos_passeio = dias * gastos_diarios_por_cidade[i]\n",
    "\n",
    "  return gastos_passeio\n",
    "\n",
    "diaria_hotel = 150\n",
    "distancia_litro = 14\n",
    "valor_litro = 5\n",
    "\n",
    "cidades = [\"Salvador\", \"Fortaleza\", \"Natal\", \"Aracaju\"]\n",
    "gastos_diarios_por_cidade = [200, 400, 250, 300]\n",
    "distancia_de_recife = [850, 800, 300, 550]\n",
    "\n",
    "dias = int(input(\"A viagem vai ser de quantos dias? \"))\n",
    "destino = input(\"Qual o destino da viagem\").capitalize()\n",
    "\n",
    "gastos_hotel = gasto_hotel(dias)\n",
    "gastos_gasolina = gasto_gasolina(distancia_litro, valor_litro, distancia_de_recife, destino, cidades)\n",
    "gastos_passeio = gasto_passeio(gastos_diarios_por_cidade, cidades, destino, dias)\n",
    "\n",
    "gastos = gastos_hotel + gastos_gasolina + gastos_passeio\n",
    "\n",
    "print(f\"Com base nos gastos definidos, uma viagem de {dias} dias para {destino} saindo de Recife custaria {gastos:.2f} reais\")\n"
   ]
  },
  {
   "cell_type": "markdown",
   "metadata": {
    "id": "Uae8o3eMa1d1"
   },
   "source": [
    "#### Questão 10\n",
    "\n",
    "Você iniciou um estágio em uma empresa que trabalha com processamento de linguagem natural ([NLP](https://www.alura.com.br/artigos/guia-nlp-conceitos-tecnicas)). Sua líder requisitou que você criasse um trecho de código que recebe uma frase digitada pela pessoa usuária e filtre apenas as palavras com tamanho maior ou igual a 5, exibindo-as em uma lista. Essa demanda é voltada para a análise do padrão de comportamento de pessoas na escrita de palavras acima dessa quantidade de caracteres.\n",
    "\n",
    "> Dica: utilize as funções lambda e [`filter()`](https://docs.python.org/pt-br/3/library/functions.html?highlight=filter#filter) para filtrar essas palavras. Lembrando que a função embutida `filter()` recebe uma função (no nosso exemplo uma função lambda) e filtra um iterável de acordo com a função. Para tratar a frase use `replace()` para trocar a ',' '.', '!' e '?' por espaço.\n",
    "\n",
    "Use a frase `\"Aprender Python aqui na Alura é muito bom\"`para testar o código"
   ]
  },
  {
   "cell_type": "code",
   "execution_count": 24,
   "metadata": {
    "id": "_WxPiZWtpWoX"
   },
   "outputs": [],
   "source": [
    "frase = input(\"Digite uma frase: \")\n",
    "frase = frase.replace(',', ' ').replace('.', ' ').replace('!', ' ').replace('?', ' ').split()"
   ]
  },
  {
   "cell_type": "code",
   "execution_count": 25,
   "metadata": {
    "id": "RNKCIcDJeBsX"
   },
   "outputs": [
    {
     "name": "stdout",
     "output_type": "stream",
     "text": [
      "['Aprender', 'Python', 'Alura', 'muito']\n"
     ]
    }
   ],
   "source": [
    "tamanho = list(filter(lambda x: len(x) >= 5, frase))\n",
    "print(tamanho)"
   ]
  },
  {
   "cell_type": "markdown",
   "metadata": {
    "id": "u_KhhnCfh3ST"
   },
   "source": [
    "## Aula 3 - Estrutura de dados compostas"
   ]
  },
  {
   "cell_type": "markdown",
   "metadata": {
    "id": "6cya3lleh3SU"
   },
   "source": [
    "### Aquecimento"
   ]
  },
  {
   "cell_type": "markdown",
   "metadata": {
    "id": "MLv8mbbth3SU"
   },
   "source": [
    "#### Questão 1\n",
    "\n",
    "Crie um código para imprimir a soma dos elementos de cada uma das listas contidas na seguinte lista:\n",
    "```\n",
    "lista_de_listas = [[4,6,5,9], [1,0,7,2], [3,4,1,8]]\n",
    "```"
   ]
  },
  {
   "cell_type": "code",
   "execution_count": 2,
   "metadata": {
    "id": "P9dywp1xh3SU"
   },
   "outputs": [
    {
     "name": "stdout",
     "output_type": "stream",
     "text": [
      "24\n",
      "10\n",
      "16\n"
     ]
    }
   ],
   "source": [
    "lista_de_listas = [[4,6,5,9], [1,0,7,2], [3,4,1,8]]\n",
    "\n",
    "for lista in lista_de_listas:\n",
    "    print(sum(lista))"
   ]
  },
  {
   "cell_type": "markdown",
   "metadata": {
    "id": "C72i8R3Ih3SU"
   },
   "source": [
    "#### Questão 2\n",
    "\n",
    "Crie um código para gerar uma lista que armazena o terceiro elemento de cada tupla contida na seguinte lista de tuplas:\n",
    "```\n",
    "lista_de_tuplas = [('Pedro', 1.74, 81), ('Júlia', 1.65, 67), ('Otávio', 1.81, 83)]\n",
    "```"
   ]
  },
  {
   "cell_type": "code",
   "execution_count": 4,
   "metadata": {
    "id": "S9EL1Bvjh3SU"
   },
   "outputs": [
    {
     "data": {
      "text/plain": [
       "[81, 67, 83]"
      ]
     },
     "execution_count": 4,
     "metadata": {},
     "output_type": "execute_result"
    }
   ],
   "source": [
    "def third_element(tupla: list=[0]) -> list:\n",
    "  third = tupla[2]\n",
    "  \n",
    "  return third\n",
    "\n",
    "lista_de_tuplas = [('Pedro', 1.74, 81), ('Júlia', 1.65, 67), ('Otávio', 1.81, 83)]\n",
    "\n",
    "terceiros = [(third_element(tupla)) for tupla in lista_de_tuplas]\n",
    "terceiros"
   ]
  },
  {
   "cell_type": "markdown",
   "metadata": {
    "id": "e5ni69Lwh3SU"
   },
   "source": [
    "#### Questão 3\n",
    "A partir da lista: `lista = ['Pedro', 'Júlia', 'Otávio', 'Eduardo']`, crie um código para gerar uma lista de tuplas em que cada tupla tenha o primeiro elemento como a posição do nome na lista original e o segundo elemento sendo o próprio nome."
   ]
  },
  {
   "cell_type": "code",
   "execution_count": 7,
   "metadata": {
    "id": "x3ckJThph3SU"
   },
   "outputs": [
    {
     "data": {
      "text/plain": [
       "[(1, 'Pedro'), (2, 'Júlia'), (3, 'Otávio'), (4, 'Eduardo')]"
      ]
     },
     "execution_count": 7,
     "metadata": {},
     "output_type": "execute_result"
    }
   ],
   "source": [
    "def posicionar_itens(lista):\n",
    "  posicao = []\n",
    "  \n",
    "  for i in range(len(lista)):\n",
    "    posicao.append((i + 1, lista[i]))\n",
    "  \n",
    "  return posicao\n",
    "\n",
    "lista = ['Pedro', 'Júlia', 'Otávio', 'Eduardo']\n",
    "\n",
    "posicionar_itens(lista)"
   ]
  },
  {
   "cell_type": "markdown",
   "metadata": {
    "id": "mtuC2qBLh3SU"
   },
   "source": [
    "#### Questão 4\n",
    "Crie uma lista usando o list comprehension, que armazena somente o valor numérico de cada tupla caso o primeiro elemento seja 'Apartamento' a partir da seguinte lista de tuplas:\n",
    "```\n",
    "aluguel = [('Apartamento', 1700), ('Apartamento', 1400), ('Casa', 2150), ('Apartamento', 1900), ('Casa', 1100)]\n",
    "```\n",
    "\n"
   ]
  },
  {
   "cell_type": "code",
   "execution_count": 8,
   "metadata": {
    "id": "H1S8yT64h3SU"
   },
   "outputs": [
    {
     "data": {
      "text/plain": [
       "[1700, 1400, 1900]"
      ]
     },
     "execution_count": 8,
     "metadata": {},
     "output_type": "execute_result"
    }
   ],
   "source": [
    "aluguel = [('Apartamento', 1700), ('Apartamento', 1400), ('Casa', 2150), ('Apartamento', 1900), ('Casa', 1100)]\n",
    "\n",
    "valores = [info[1] for info in aluguel if info[0] == 'Apartamento']\n",
    "valores"
   ]
  },
  {
   "cell_type": "markdown",
   "metadata": {
    "id": "Bd-Xp_iKh3SU"
   },
   "source": [
    "#### Questão 5\n",
    "\n",
    "Crie um dicionário usando o dict comprehension em que as chaves estão na lista `meses = ['Jan', 'Fev', 'Mar', 'Abr', 'Mai', 'Jun', 'Jul', 'Ago', 'Set', 'Out', 'Nov', 'Dez']` e os valores estão na lista `despesa = [860, 490, 1010, 780, 900, 630, 590, 770, 620, 560, 840, 360]`\n",
    "\n"
   ]
  },
  {
   "cell_type": "code",
   "execution_count": 9,
   "metadata": {
    "id": "y7c5ickkh3SV"
   },
   "outputs": [
    {
     "data": {
      "text/plain": [
       "{'Jan': 860,\n",
       " 'Fev': 490,\n",
       " 'Mar': 1010,\n",
       " 'Abr': 780,\n",
       " 'Mai': 900,\n",
       " 'Jun': 630,\n",
       " 'Jul': 590,\n",
       " 'Ago': 770,\n",
       " 'Set': 620,\n",
       " 'Out': 560,\n",
       " 'Nov': 840,\n",
       " 'Dez': 360}"
      ]
     },
     "execution_count": 9,
     "metadata": {},
     "output_type": "execute_result"
    }
   ],
   "source": [
    "meses = ['Jan', 'Fev', 'Mar', 'Abr', 'Mai', 'Jun', 'Jul', 'Ago', 'Set', 'Out', 'Nov', 'Dez']\n",
    "despesa = [860, 490, 1010, 780, 900, 630, 590, 770, 620, 560, 840, 360]\n",
    "\n",
    "despesa_mensal = {meses[i]: despesa[i] for i in range(len(meses))}\n",
    "despesa_mensal"
   ]
  },
  {
   "cell_type": "markdown",
   "metadata": {
    "id": "T9XuUQIph3SU"
   },
   "source": [
    "### Aplicando a projetos"
   ]
  },
  {
   "cell_type": "markdown",
   "metadata": {
    "id": "WrgAw6a0h3SV"
   },
   "source": [
    "#### Questão 6\n",
    "\n",
    "Uma loja possui um banco de dados com a informação de venda de cada representante e de cada ano e precisa filtrar somente os dados do ano 2022 com venda maior do que 6000. A loja forneceu uma amostra contendo apenas as colunas com os anos e os valores de venda para que você ajude a realizar a filtragem dos dados a partir de um código:\n",
    "```\n",
    "vendas = [('2023', 4093), ('2021', 4320), ('2021', 5959), ('2022', 8883), ('2023', 9859), ('2022', 5141), ('2022', 7688), ('2022', 9544), ('2023', 4794), ('2021', 7178), ('2022', 3030), ('2021', 7471), ('2022', 4226), ('2022', 8190), ('2021', 9680), ('2022', 5616)]\n",
    "```\n",
    "Crie uma lista usando list comprehension para filtrar os valores de 2022 e que sejam maiores que 6000.\n"
   ]
  },
  {
   "cell_type": "code",
   "execution_count": 10,
   "metadata": {
    "id": "jQvbtw2sh3SV"
   },
   "outputs": [
    {
     "data": {
      "text/plain": [
       "[('2022', 8883), ('2022', 7688), ('2022', 9544), ('2022', 8190)]"
      ]
     },
     "execution_count": 10,
     "metadata": {},
     "output_type": "execute_result"
    }
   ],
   "source": [
    "vendas = [('2023', 4093), ('2021', 4320), ('2021', 5959), ('2022', 8883), ('2023', 9859), ('2022', 5141), ('2022', 7688), ('2022', 9544), ('2023', 4794), ('2021', 7178), ('2022', 3030), ('2021', 7471), ('2022', 4226), ('2022', 8190), ('2021', 9680), ('2022', 5616)]\n",
    "\n",
    "vendas_2022 = [info for info in vendas if info[0] == '2022' and info[1] > 6000]\n",
    "vendas_2022"
   ]
  },
  {
   "cell_type": "markdown",
   "metadata": {
    "id": "8Hl7OgcQh3SV"
   },
   "source": [
    "#### Questão 7\n",
    "\n",
    "Uma clínica analisa dados de pacientes e armazena o valor numérico da glicose em um banco de dados e gostaria de rotular os dados da seguinte maneira:\n",
    "\n",
    "- Glicose igual ou inferior a 70: 'Hipoglicemia'\n",
    "- Glicose entre 70 a 99: 'Normal'\n",
    "- Glicose entre 100 e 125: 'Alterada'\n",
    "- Glicose superior a 125: 'Diabetes'\n",
    "\n",
    "A clínica disponibilizou parte dos valores e sua tarefa é criar uma lista de tuplas usando list comprehension contendo o rótulo e o valor da glicemia em cada tupla.\n",
    "\n",
    "```\n",
    "glicemia = [129, 82, 60, 97, 101, 65, 62, 167, 87, 53, 58, 92, 66, 120, 109, 62, 86, 96, 103, 88, 155, 52, 89, 73]\n",
    "```"
   ]
  },
  {
   "cell_type": "code",
   "execution_count": 12,
   "metadata": {
    "id": "cIDqBZrxh3SV"
   },
   "outputs": [
    {
     "data": {
      "text/plain": [
       "[('Diabetes', 129),\n",
       " ('Normal', 82),\n",
       " ('Hipoglicemia', 60),\n",
       " ('Normal', 97),\n",
       " ('Alterada', 101),\n",
       " ('Hipoglicemia', 65),\n",
       " ('Hipoglicemia', 62),\n",
       " ('Diabetes', 167),\n",
       " ('Normal', 87),\n",
       " ('Hipoglicemia', 53),\n",
       " ('Hipoglicemia', 58),\n",
       " ('Normal', 92),\n",
       " ('Hipoglicemia', 66),\n",
       " ('Alterada', 120),\n",
       " ('Alterada', 109),\n",
       " ('Hipoglicemia', 62),\n",
       " ('Normal', 86),\n",
       " ('Normal', 96),\n",
       " ('Alterada', 103),\n",
       " ('Normal', 88),\n",
       " ('Diabetes', 155),\n",
       " ('Hipoglicemia', 52),\n",
       " ('Normal', 89),\n",
       " ('Normal', 73)]"
      ]
     },
     "execution_count": 12,
     "metadata": {},
     "output_type": "execute_result"
    }
   ],
   "source": [
    "glicemia = [129, 82, 60, 97, 101, 65, 62, 167, 87, 53, 58, 92, 66, 120, 109, 62, 86, 96, 103, 88, 155, 52, 89, 73]\n",
    "\n",
    "def categorizar_glicemia(lista):\n",
    "  tipo = []\n",
    "  \n",
    "  for i in range(len(lista)):\n",
    "    if lista[i] <= 70:\n",
    "      tipo.append('Hipoglicemia')\n",
    "    elif 99 >= lista[i] > 70:\n",
    "      tipo.append('Normal')\n",
    "    elif 125 >= lista[i] >= 100:\n",
    "      tipo.append('Alterada')\n",
    "    else:\n",
    "      tipo.append('Diabetes')\n",
    "    \n",
    "  lista_classificada = list(zip(tipo, lista))\n",
    "  \n",
    "  return lista_classificada\n",
    "\n",
    "categorizar_glicemia(glicemia)"
   ]
  },
  {
   "cell_type": "markdown",
   "metadata": {
    "id": "twYIfol8h3SV"
   },
   "source": [
    "#### Questão 8\n",
    "Um e-commerce possui as informações de id de venda, quantidade vendida e preço do produto divididos nas seguintes listas:\n",
    "\n",
    "```\n",
    "id = [0, 1, 2, 3, 4, 5, 6, 7, 8, 9]\n",
    "quantidade = [15, 12, 1, 15, 2, 11, 2, 12, 2, 4]\n",
    "preco = [93.0, 102.0, 18.0, 41.0, 122.0, 14.0, 71.0, 48.0, 14.0, 144.0]\n",
    "```\n",
    "\n",
    "O e-commerce precisa estruturar esses dados em uma tabela contendo o valor total da venda, que é obtida multiplicando a quantidade pelo preço unitário. Além disso, tabela precisa conter um cabeçalho indicando as colunas: 'id', 'quantidade', 'preco' e 'total'. \n",
    "\n",
    "Crie uma lista de tuplas em que cada tupla tenha um id, quantidade, preço e valor total, na qual a primeira tupla é o cabeçalho da tabela.\n"
   ]
  },
  {
   "cell_type": "code",
   "execution_count": 14,
   "metadata": {
    "id": "XnmvwiIwh3SV"
   },
   "outputs": [
    {
     "data": {
      "text/plain": [
       "[('id', 'quantidade', 'preco', 'total'),\n",
       " (0, 15, 93.0, 1395.0),\n",
       " (1, 12, 102.0, 1224.0),\n",
       " (2, 1, 18.0, 18.0),\n",
       " (3, 15, 41.0, 615.0),\n",
       " (4, 2, 122.0, 244.0),\n",
       " (5, 11, 14.0, 154.0),\n",
       " (6, 2, 71.0, 142.0),\n",
       " (7, 12, 48.0, 576.0),\n",
       " (8, 2, 14.0, 28.0),\n",
       " (9, 4, 144.0, 576.0)]"
      ]
     },
     "execution_count": 14,
     "metadata": {},
     "output_type": "execute_result"
    }
   ],
   "source": [
    "id = [0, 1, 2, 3, 4, 5, 6, 7, 8, 9]\n",
    "quantidade = [15, 12, 1, 15, 2, 11, 2, 12, 2, 4]\n",
    "preco = [93.0, 102.0, 18.0, 41.0, 122.0, 14.0, 71.0, 48.0, 14.0, 144.0]\n",
    "\n",
    "tabela = [('id', 'quantidade', 'preco', 'total')]\n",
    "tabela += [(id[i], quantidade[i], preco[i], quantidade[i]*preco[i]) for i in range(len(id))]\n",
    "tabela"
   ]
  },
  {
   "cell_type": "markdown",
   "metadata": {
    "id": "9tMZEiPzh3SV"
   },
   "source": [
    "#### Questão 9\n",
    "\n",
    "Uma empresa possui filiais espalhadas nos estados da região sudeste do Brasil. Em uma das tabelas de cadastro das filiais, há uma coluna contendo a informação de qual é o estado a que pertence: \n",
    "```\n",
    "estados = ['SP', 'ES', 'MG', 'MG', 'SP', 'MG', 'ES', 'ES', 'ES', 'SP', 'SP', 'MG', 'ES', 'SP', 'RJ', 'MG', 'RJ', 'SP', 'MG', 'SP', 'ES', 'SP', 'MG']\n",
    "```\n",
    "\n",
    "A empresa sempre está abrindo novas filiais, de modo que a tabela está constantemente recebendo novos registros e o gestor gostaria de possuir a informação atualizada da quantidade de filiais em cada estado. A partir da coluna com a informação dos estados, crie um dicionário usando dict comprehension com a chave sendo o nome de um estado e o valor sendo a contagem de vezes em que o estado aparece na lista.\n",
    "\n",
    "> Dica: Você pode fazer um passo intermediário para gerar uma lista de listas em que cada uma das listas possui o nome de apenas um estado com valores repetidos."
   ]
  },
  {
   "cell_type": "code",
   "execution_count": 17,
   "metadata": {
    "id": "qXU5UMUih3SV"
   },
   "outputs": [
    {
     "name": "stdout",
     "output_type": "stream",
     "text": [
      "[['SP', 'SP', 'SP', 'SP', 'SP', 'SP', 'SP', 'SP'], ['MG', 'MG', 'MG', 'MG', 'MG', 'MG', 'MG'], ['RJ', 'RJ'], ['ES', 'ES', 'ES', 'ES', 'ES', 'ES']]\n",
      "{'SP': 8, 'MG': 7, 'RJ': 2, 'ES': 6}\n"
     ]
    }
   ],
   "source": [
    "estados = ['SP', 'ES', 'MG', 'MG', 'SP', 'MG', 'ES', 'ES', 'ES', 'SP', 'SP', 'MG', 'ES', 'SP', 'RJ', 'MG', 'RJ', 'SP', 'MG', 'SP', 'ES', 'SP', 'MG']\n",
    "\n",
    "estados_unicos = list(set(estados))\n",
    "\n",
    "lista_de_listas = []\n",
    "for estado in estados_unicos:\n",
    "    lista = [uf for uf in estados if uf == estado]\n",
    "    lista_de_listas.append(lista)\n",
    "print(lista_de_listas)\n",
    "\n",
    "contagem_valores = {estados_unicos[i]: len(lista_de_listas[i]) for i in range(len(estados_unicos))}\n",
    "print(contagem_valores)"
   ]
  },
  {
   "cell_type": "markdown",
   "metadata": {
    "id": "JONqYFZjh3SV"
   },
   "source": [
    "#### Questão 10\n",
    "\n",
    "Nessa mesma tabela de cadastro de filiais, há uma coluna com as informações da quantidade de funcionários e o gestor gostaria de ter um agrupamento da soma de funcionários para cada estado. As informações contidas na tabela são: \n",
    "\n",
    "```\n",
    "funcionarios = [('SP', 16), ('ES', 8), ('MG', 9), ('MG', 6), ('SP', 10), ('MG', 4), ('ES',9), ('ES', 7), ('ES', 12), ('SP', 7), ('SP', 11), ('MG',8), ('ES',8), ('SP',9), ('RJ', 13), ('MG', 5), ('RJ', 9), ('SP', 12), ('MG', 10), ('SP', 7), ('ES', 14), ('SP', 10), ('MG', 12)]\n",
    "```\n",
    "\n",
    "A partir da lista de tuplas, crie um dicionário em que as chaves são os nomes dos estados únicos e os valores são as listas com o número de funcionários referentes ao estado. Crie também um dicionário em que as chaves são os nomes dos estados e os valores são a soma de funcionários(as) por estado.\n",
    "\n",
    "> Dica: Você pode fazer um passo intermediário para gerar uma lista de listas em que cada uma das listas possui apenas os valores numéricos de funcionários de cada estado.\n"
   ]
  },
  {
   "cell_type": "code",
   "execution_count": 22,
   "metadata": {
    "id": "lq42ThQNh3SV"
   },
   "outputs": [
    {
     "name": "stdout",
     "output_type": "stream",
     "text": [
      "[[16, 10, 7, 11, 9, 12, 7, 10], [9, 6, 4, 8, 5, 10, 12], [13, 9], [8, 9, 7, 12, 8, 14]]\n",
      "{'SP': [16, 10, 7, 11, 9, 12, 7, 10], 'MG': [9, 6, 4, 8, 5, 10, 12], 'RJ': [13, 9], 'ES': [8, 9, 7, 12, 8, 14]}\n",
      "{'SP': 82, 'MG': 54, 'RJ': 22, 'ES': 58}\n"
     ]
    }
   ],
   "source": [
    "funcionarios = [('SP', 16), ('ES', 8), ('MG', 9), ('MG', 6), ('SP', 10), ('MG', 4), ('ES',9), ('ES', 7), ('ES', 12), ('SP', 7), ('SP', 11), ('MG',8), ('ES',8), ('SP',9), ('RJ', 13), ('MG', 5), ('RJ', 9), ('SP', 12), ('MG', 10), ('SP', 7), ('ES', 14), ('SP', 10), ('MG', 12)]\n",
    "\n",
    "# Armazenando os estados sem repetição de valor\n",
    "estados_unicos = list(set([tupla[0] for tupla in funcionarios]))\n",
    "\n",
    "# Criando uma lista de listas com valores de funcionários de cada estado\n",
    "lista_de_listas = []\n",
    "\n",
    "for estado in estados_unicos:\n",
    "    lista = [tupla[1] for tupla in funcionarios if tupla[0] == estado]\n",
    "    lista_de_listas.append(lista)\n",
    "print(lista_de_listas)\n",
    "\n",
    "# Criando um dicionário com dados agrupados de funcionário por estado\n",
    "agrupamento_por_estado = {estados_unicos[i]: lista_de_listas[i] for i in range(len(estados_unicos))}\n",
    "print(agrupamento_por_estado)\n",
    "\n",
    "# Criando um dicionário com a soma de funcionários por estado\n",
    "soma_por_estado = {estados_unicos[i]: sum(lista_de_listas[i]) for i in range(len(estados_unicos))}\n",
    "print(soma_por_estado)"
   ]
  },
  {
   "cell_type": "markdown",
   "metadata": {
    "id": "ckCXdwLdjYgM"
   },
   "source": [
    "## Aula 4 - Lidando com exceções"
   ]
  },
  {
   "cell_type": "markdown",
   "metadata": {
    "id": "OPBXL2tLjYgM"
   },
   "source": [
    "### Aquecimento"
   ]
  },
  {
   "cell_type": "markdown",
   "metadata": {
    "id": "7z7VpY0ujYgM"
   },
   "source": [
    "#### Questão 1\n",
    "\n",
    "Faça um programa que solicite à pessoa usuária digitar dois números `float` e calcular a divisão entre esses números. O código deve conter um tratamento de erro, indicando o tipo de erro que foi gerado caso a divisão não seja possível de realizar.\n",
    "\n",
    "Teste o programa com o segundo valor numérico do input igual a 0 e também teste utilizando caracteres textuais no input para checar os tipos de erro que ocorrem."
   ]
  },
  {
   "cell_type": "code",
   "execution_count": 4,
   "metadata": {
    "id": "Zg1CLRTxjYgM"
   },
   "outputs": [
    {
     "name": "stdout",
     "output_type": "stream",
     "text": [
      "2.0\n"
     ]
    }
   ],
   "source": [
    "try:\n",
    "    numero1 = float(input(\"Digite o número: \"))\n",
    "    numero2 = float(input(\"Digite o número: \"))\n",
    "    divisao = numero1 / numero2\n",
    "except ZeroDivisionError:\n",
    "    print('Não é possível dividir por 0')\n",
    "else:\n",
    "    print(divisao)"
   ]
  },
  {
   "cell_type": "markdown",
   "metadata": {
    "id": "KYgeJS5ljYgM"
   },
   "source": [
    "#### Questão 2\n",
    "\n",
    "Faça um programa que solicite à pessoa usuária digitar um texto que será uma chave a ser pesquisada no seguinte dicionário: `idades = {'Júlia': 16, 'Carol': 23, 'Alberto': 19, 'Roberta': 17}`, armazenando o resultado do valor em uma variável. O código deve conter um tratamento de erro `KeyError`, imprimindo a informação 'Nome não encontrado' caso ocorra o erro e imprimir o valor caso não ocorra nenhum.\n",
    "\n",
    "Teste o programa com um nome presente em uma das chaves do dicionário e com um que não esteja no dicionário para verificar a mensagem de erro.\n",
    "\n"
   ]
  },
  {
   "cell_type": "code",
   "execution_count": 13,
   "metadata": {
    "id": "mcTh-_tDjYgM"
   },
   "outputs": [
    {
     "name": "stdout",
     "output_type": "stream",
     "text": [
      "Nome não encontrado\n"
     ]
    }
   ],
   "source": [
    "idades = {'Júlia': 16, 'Carol': 23, 'Alberto': 19, 'Roberta': 17}\n",
    "\n",
    "try:\n",
    "    chave = input('Digite um nome: ')\n",
    "    valor = idades[chave]\n",
    "except KeyError:\n",
    "    print('Nome não encontrado')\n",
    "else:\n",
    "    print(valor)\n"
   ]
  },
  {
   "cell_type": "markdown",
   "metadata": {
    "id": "tGQNNI_PjYgM"
   },
   "source": [
    "#### Questão 3\n",
    "Crie uma função que recebe uma lista como parâmetro e converta todos os valores da lista para `float`. A função deve conter um tratamento de erro indicando o tipo de erro gerado e retornar a lista caso não tenha ocorrido nenhum erro. Por fim, deve ter a cláusula `finally` para imprimir o texto: 'Fim da execução da função'."
   ]
  },
  {
   "cell_type": "code",
   "execution_count": 18,
   "metadata": {
    "id": "1oflR6ywjYgN"
   },
   "outputs": [
    {
     "name": "stdout",
     "output_type": "stream",
     "text": [
      "Fim da execução da função\n"
     ]
    },
    {
     "data": {
      "text/plain": [
       "[0.0, 1.0, 2.0, 3.0, 9.0]"
      ]
     },
     "execution_count": 18,
     "metadata": {},
     "output_type": "execute_result"
    }
   ],
   "source": [
    "def float_converte(lista):\n",
    "    lista_convertida = []\n",
    "    try:\n",
    "        for i in range(len(lista)):\n",
    "            lista_convertida.append(float(lista[i]))\n",
    "    except ValueError as e:\n",
    "        print(e)\n",
    "    else:\n",
    "        return lista_convertida\n",
    "    finally:\n",
    "        print('Fim da execução da função')\n",
    "\n",
    "lista = [0, 1, 2, 3, 9]\n",
    "float_converte(lista)"
   ]
  },
  {
   "cell_type": "markdown",
   "metadata": {
    "id": "WWE44VS4jYgN"
   },
   "source": [
    "#### Questão 4\n",
    "Crie uma função que recebe duas listas como parâmetros e agrupe os elementos um a um das listas, formando uma lista de tuplas de 3 elementos, onde o primeiro e segundo elemento da tupla são os valores na posição `i` das listas e o terceiro elemento é a soma dos valores na posição `i` das listas. A função deve conter um tratamento de erro indicando o tipo de erro gerado e retornar como resultado a lista de tuplas. Caso as listas enviadas como parâmetro tenham tamanhos diferentes, a função deve retornar um IndexError com a frase: 'A quantidade de elementos em cada lista é diferente.' \n",
    "\n",
    "Dados para testar a função:\n",
    "\n",
    "Valores sem erro:\n",
    "```\n",
    "lista1 = [4,6,7,9,10]\n",
    "lista 2 = [-4,6,8,7,9]\n",
    "```\n",
    "Listas com tamanhos diferentes:\n",
    "\n",
    "```\n",
    "lista1 = [4,6,7,9,10,4]\n",
    "lista 2 = [-4,6,8,7,9]\n",
    "```\n",
    "Listas com valores incoerentes:\n",
    "\n",
    "```\n",
    "lista1 = [4,6,7,9,'A']\n",
    "lista 2 = [-4,'E',8,7,9]\n",
    "```"
   ]
  },
  {
   "cell_type": "code",
   "execution_count": 23,
   "metadata": {
    "id": "iMjbUztBjYgN"
   },
   "outputs": [
    {
     "name": "stdout",
     "output_type": "stream",
     "text": [
      "Tipo de dado da lista não suportado\n"
     ]
    }
   ],
   "source": [
    "def agrupar_listas(lista1, lista2):\n",
    "    lista_agrupada = []\n",
    "    try:\n",
    "        for i in range(len(lista1)):\n",
    "            lista_agrupada.append((lista1[i], lista2[i], lista1[i] + lista2[i]))\n",
    "    except IndexError:\n",
    "        print('A quantidade de elementos em cada lista é diferente')\n",
    "    except TypeError:\n",
    "        print('Tipo de dado da lista não suportado')\n",
    "    else:\n",
    "        return lista_agrupada\n",
    " \n",
    "#lista1 = [4,6,7,9,10]\n",
    "#lista2 = [-4,6,8,7,9]\n",
    "\n",
    "#lista1 = [4,6,7,9,10,4]\n",
    "#lista2 = [-4,6,8,7,9]\n",
    "\n",
    "lista1 = [4,6,7,9,'A']\n",
    "lista2 = [-4,'E',8,7,9]\n",
    "    \n",
    "agrupar_listas(lista1, lista2)"
   ]
  },
  {
   "cell_type": "markdown",
   "metadata": {
    "id": "vNSw4u6hjYgN"
   },
   "source": [
    "### Aplicando a projetos"
   ]
  },
  {
   "cell_type": "markdown",
   "metadata": {
    "id": "AHC6OFQDjYgN"
   },
   "source": [
    "#### Questão 5\n",
    "\n",
    "Você recebeu como desafio desenvolver um código que contabiliza as pontuações de estudantes de uma instituição de ensino de acordo com suas respostas num teste. \n",
    "\n",
    "Este código deve ser testado para um exemplo de 3 estudantes com uma lista de listas em que cada lista possui as respostas de 5 questões objetivas de cada estudante. Cada questão vale um ponto e as alternativas possíveis são A, B, C ou D. \n",
    "\n",
    "Caso alguma alternativa em um dos testes não esteja entre as alternativas possíveis você deve lançar um **ValueError** com a mensagem `\"A alternativa [alternativa] não é uma opção de alternativa válida\"`. O cálculo das 3 notas só será realizado mediante as entradas com as alternativas A, B, C ou D em todos os testes.\n",
    "\n",
    "Se não for lançada a exceção, será exibida uma lista com as notas em cada teste.\n",
    "\n",
    "Os dados para o teste do código são:\n",
    "\n",
    "- **Gabarito da prova**:\n",
    "```\n",
    "gabarito = ['D', 'A', 'B', 'C', 'A']\n",
    "```\n",
    "Abaixo temos 2 listas de listas que você pode usar como teste\n",
    "\n",
    "- **Notas sem exceção:**\n",
    "```\n",
    "testes_sem_ex = [['D', 'A', 'B', 'C', 'A'], ['C', 'A', 'A', 'C', 'A'], ['D', 'B', 'A', 'C', 'A']]\n",
    "```\n",
    "- **Notas com exceção:**\n",
    "```\n",
    "testes_com_ex = [['D', 'A', 'B', 'C', 'A'], ['C', 'A', 'A', 'E', 'A'], ['D', 'B', 'A', 'C', 'A']]\n",
    "```\n",
    "\n",
    "> Dica: Para verificar se uma entrada da lista não está entre as alternativas possíveis use a estrutura `lista[i] not in ['A','B','C','D']` (Por exemplo, `1 not in [2,3,4]`... Saída: `True`) "
   ]
  },
  {
   "cell_type": "code",
   "execution_count": null,
   "metadata": {
    "id": "n7AJhrMpjYgN"
   },
   "outputs": [],
   "source": [
    "# Função para correção das notas\n"
   ]
  },
  {
   "cell_type": "code",
   "execution_count": null,
   "metadata": {
    "id": "o_05pMigo-tR"
   },
   "outputs": [],
   "source": [
    "# Testando no exemplo que não lança exceção\n"
   ]
  },
  {
   "cell_type": "code",
   "execution_count": null,
   "metadata": {
    "id": "PWeHm6Fjo-at"
   },
   "outputs": [],
   "source": [
    "# Testando no exemplo que lança exceção\n"
   ]
  },
  {
   "cell_type": "markdown",
   "metadata": {
    "id": "AjQWxSIq28Ac"
   },
   "source": [
    "#### Questão 6\n",
    "\n",
    "Você está trabalhando com processamento de linguagem natural ([NLP](https://www.alura.com.br/artigos/guia-nlp-conceitos-tecnicas)) e, dessa vez, sua líder requisitou que você criasse um trecho de código que recebe uma lista com as palavras separadas de uma frase gerada pelo ChatGPT. \n",
    "\n",
    "Você precisa criar uma função que avalia cada palavra desse texto e verificar se o tratamento para retirar os símbolos de pontuação (',' '.', '!' e '?') foi realizado. Caso contrário, será lançada uma exceção do tipo **ValueError** apontando o 1º caso em que foi detectado o uso de uma pontuação por meio da frase `\"O texto apresenta pontuações na palavra \"[palavra]\".\"`.\n",
    "\n",
    "Essa demanda é voltada para a análise do padrão de frases geradas pela inteligência artificial.\n",
    "\n",
    "> Dica: Para verificar se uma ou mais das pontuações estão presentes em cada palavra, utilize a palavra chave `or` na condição if (Por exemplo, `('a' or 'b') in 'alura'` ... Saída: `True`) \n",
    "\n",
    "Os dados para o teste do código são:\n",
    "\n",
    "- **Lista tratada:**\n",
    "```\n",
    "lista_tratada = ['Python', 'é', 'uma', 'linguagem', 'de', 'programação', 'poderosa', 'versátil',\n",
    "                  'e', 'fácil', 'de', 'aprender', 'utilizada', 'em', 'diversos', 'campos', 'desde',\n",
    "                  'análise', 'de', 'dados', 'até', 'inteligência', 'artificial']\n",
    "```\n",
    "- **Lista não tratada:**\n",
    "```\n",
    "lista_nao_tratada = ['Python', 'é', 'uma', 'linguagem', 'de', 'programação', 'poderosa,', 'versátil',\n",
    "                  'e', 'fácil,', 'de', 'aprender', 'utilizada', 'em', 'diversos', 'campos,', 'desde',\n",
    "                  'análise', 'de', 'dados', 'até', 'inteligência', 'artificial!']\n",
    "```\n"
   ]
  },
  {
   "cell_type": "code",
   "execution_count": null,
   "metadata": {
    "id": "gxVg1sc_xACI"
   },
   "outputs": [],
   "source": [
    "# criando a função que recebe a lista de palavras\n"
   ]
  },
  {
   "cell_type": "code",
   "execution_count": null,
   "metadata": {
    "id": "gDvOq79slmlJ"
   },
   "outputs": [],
   "source": [
    "# Testando no exemplo que não lança exceção\n"
   ]
  },
  {
   "cell_type": "code",
   "execution_count": null,
   "metadata": {
    "id": "PQADJf42woaw"
   },
   "outputs": [],
   "source": [
    "# Testando no exemplo que lança exceção\n"
   ]
  },
  {
   "cell_type": "markdown",
   "metadata": {
    "id": "3IhndsTyzdRq"
   },
   "source": [
    "#### Questão 7\n",
    "Você foi contratado como uma pessoa cientista de dados para auxiliar um laboratório que faz experimentos sobre o comportamento de uma cultura de fungos. O laboratório precisa avaliar constantemente a razão (divisão) entre os dados de pressão e temperatura do ambiente controlado recolhidos durante a experimentação para definir a melhor condição para os testes.\n",
    "\n",
    "Para cumprir com a demanda, você precisa criar uma função `divide_colunas` que recebe os dados das colunas de pressão e temperatura (que vem no formato de listas) e gerar uma nova coluna com o resultado da divisão. Os parâmetros da função são as duas listas e você deve tratar dentro dela ao menos 2 tipos de exceções:   \n",
    "- Verificar se as listas têm o mesmo tamanho (ValueError)\n",
    "- Verificar se existe alguma divisão por zero (ZeroDivisionError)\n",
    "\n",
    "Para testar a função, vamos realizar a divisão entre duas listas de dados coletados no experimento, com os valores de pressão e temperatura do ambiente controlado. \n",
    "\n",
    "Como teste, use os seguintes dados:\n",
    "\n",
    "- **Dados sem exceção:**\n",
    "```\n",
    "pressoes = [100, 120, 140, 160, 180]\n",
    "temperaturas = [20, 25, 30, 35, 40]\n",
    "```\n",
    "- **Dados com exceção:**\n",
    "1. Exceção de ZeroDivisionError \n",
    "```\n",
    "pressoes = [60, 120, 140, 160, 180]\n",
    "temperaturas = [0, 25, 30, 35, 40]\n",
    "```\n",
    "2. Exceção de ValueError\n",
    "```\n",
    "pressoes = [100, 120, 140, 160]\n",
    "temperaturas = [20, 25, 30, 35, 40]\n",
    "```\n",
    "\n",
    "> Dica: Você pode usar `zip()` para parear os dados da lista_1 com a lista_2. Crie uma estrutura try-except que caso uma das exceções sejam lançadas, podemos ver o tipo de erro na saída.\n"
   ]
  },
  {
   "cell_type": "code",
   "execution_count": null,
   "metadata": {
    "id": "pYofyZVsuF2Y"
   },
   "outputs": [],
   "source": []
  },
  {
   "cell_type": "code",
   "execution_count": null,
   "metadata": {
    "id": "gSvAEmxit1zI"
   },
   "outputs": [],
   "source": [
    "# Testando no exemplo que não lança exceção\n"
   ]
  },
  {
   "cell_type": "code",
   "execution_count": null,
   "metadata": {
    "id": "bvebuMOot4ur"
   },
   "outputs": [],
   "source": [
    "# Testando no exemplo que lança exceção (ZeroDivisionError)\n"
   ]
  },
  {
   "cell_type": "code",
   "execution_count": null,
   "metadata": {
    "id": "sFsfTVHqt4d5"
   },
   "outputs": [],
   "source": [
    "# Testando no exemplo que lança exceção (ValueError)\n"
   ]
  }
 ],
 "metadata": {
  "colab": {
   "provenance": []
  },
  "kernelspec": {
   "display_name": "Python 3",
   "name": "python3"
  },
  "language_info": {
   "codemirror_mode": {
    "name": "ipython",
    "version": 3
   },
   "file_extension": ".py",
   "mimetype": "text/x-python",
   "name": "python",
   "nbconvert_exporter": "python",
   "pygments_lexer": "ipython3",
   "version": "3.13.2"
  }
 },
 "nbformat": 4,
 "nbformat_minor": 0
}
