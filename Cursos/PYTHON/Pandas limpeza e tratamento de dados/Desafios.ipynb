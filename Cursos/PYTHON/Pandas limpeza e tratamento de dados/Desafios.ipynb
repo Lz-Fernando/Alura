{
 "cells": [
  {
   "cell_type": "markdown",
   "id": "a8cf9caf",
   "metadata": {},
   "source": [
    "1. Desafio: utilizando parâmetros do json_normalize"
   ]
  },
  {
   "cell_type": "markdown",
   "id": "5067a018",
   "metadata": {},
   "source": [
    "Ao normalizar o objeto JSON durante a aula passamos simplesmente pd.json_normalize(<dados>) mas o método json_normalize possui diversos parâmetros para trabalhar com estruturas de dados mais complexas.\n",
    "\n",
    "Você recebeu a tarefa de normalizar o seguinte arquivo JSON chamado “informacoes.json” referente a algumas informações de identificação de um cliente. O arquivo possui o seguinte conteúdo:"
   ]
  },
  {
   "cell_type": "code",
   "execution_count": 3,
   "id": "cca57379",
   "metadata": {},
   "outputs": [
    {
     "data": {
      "text/plain": [
       "{'nome': 'João',\n",
       " 'idade': 28,\n",
       " 'enderecos': [{'tipo': 'casa',\n",
       "   'rua': 'Rua A',\n",
       "   'numero': 123,\n",
       "   'cidade': 'São Paulo'},\n",
       "  {'tipo': 'trabalho',\n",
       "   'rua': 'Rua B',\n",
       "   'numero': 456,\n",
       "   'cidade': 'Rio de Janeiro'}]}"
      ]
     },
     "execution_count": 3,
     "metadata": {},
     "output_type": "execute_result"
    }
   ],
   "source": [
    "{\n",
    "  \"nome\": \"João\",\n",
    "  \"idade\": 28,\n",
    "  \"enderecos\": [\n",
    "    {\n",
    "      \"tipo\": \"casa\",\n",
    "      \"rua\": \"Rua A\",\n",
    "      \"numero\": 123,\n",
    "      \"cidade\": \"São Paulo\"\n",
    "    },\n",
    "    {\n",
    "      \"tipo\": \"trabalho\",\n",
    "      \"rua\": \"Rua B\",\n",
    "      \"numero\": 456,\n",
    "      \"cidade\": \"Rio de Janeiro\"\n",
    "    }\n",
    "  ]\n",
    "}"
   ]
  },
  {
   "cell_type": "code",
   "execution_count": 4,
   "id": "c8561af8",
   "metadata": {},
   "outputs": [
    {
     "data": {
      "text/plain": [
       "{'nome': 'JoÃ£o',\n",
       " 'idade': 28,\n",
       " 'enderecos': [{'tipo': 'casa',\n",
       "   'rua': 'Rua A',\n",
       "   'numero': 123,\n",
       "   'cidade': 'SÃ£o Paulo'},\n",
       "  {'tipo': 'trabalho',\n",
       "   'rua': 'Rua B',\n",
       "   'numero': 456,\n",
       "   'cidade': 'Rio de Janeiro'}]}"
      ]
     },
     "execution_count": 4,
     "metadata": {},
     "output_type": "execute_result"
    }
   ],
   "source": [
    "import pandas as pd\n",
    "import json\n",
    "\n",
    "with open('Datas\\\\informacoes.json') as f:\n",
    "    dados = json.load(f)\n",
    "\n",
    "dados"
   ]
  },
  {
   "cell_type": "code",
   "execution_count": 5,
   "id": "475d11ef",
   "metadata": {},
   "outputs": [
    {
     "data": {
      "text/html": [
       "<div>\n",
       "<style scoped>\n",
       "    .dataframe tbody tr th:only-of-type {\n",
       "        vertical-align: middle;\n",
       "    }\n",
       "\n",
       "    .dataframe tbody tr th {\n",
       "        vertical-align: top;\n",
       "    }\n",
       "\n",
       "    .dataframe thead th {\n",
       "        text-align: right;\n",
       "    }\n",
       "</style>\n",
       "<table border=\"1\" class=\"dataframe\">\n",
       "  <thead>\n",
       "    <tr style=\"text-align: right;\">\n",
       "      <th></th>\n",
       "      <th>tipo</th>\n",
       "      <th>rua</th>\n",
       "      <th>numero</th>\n",
       "      <th>cidade</th>\n",
       "      <th>nome</th>\n",
       "      <th>idade</th>\n",
       "    </tr>\n",
       "  </thead>\n",
       "  <tbody>\n",
       "    <tr>\n",
       "      <th>0</th>\n",
       "      <td>casa</td>\n",
       "      <td>Rua A</td>\n",
       "      <td>123</td>\n",
       "      <td>SÃ£o Paulo</td>\n",
       "      <td>JoÃ£o</td>\n",
       "      <td>28</td>\n",
       "    </tr>\n",
       "    <tr>\n",
       "      <th>1</th>\n",
       "      <td>trabalho</td>\n",
       "      <td>Rua B</td>\n",
       "      <td>456</td>\n",
       "      <td>Rio de Janeiro</td>\n",
       "      <td>JoÃ£o</td>\n",
       "      <td>28</td>\n",
       "    </tr>\n",
       "  </tbody>\n",
       "</table>\n",
       "</div>"
      ],
      "text/plain": [
       "       tipo    rua  numero          cidade   nome idade\n",
       "0      casa  Rua A     123      SÃ£o Paulo  JoÃ£o    28\n",
       "1  trabalho  Rua B     456  Rio de Janeiro  JoÃ£o    28"
      ]
     },
     "execution_count": 5,
     "metadata": {},
     "output_type": "execute_result"
    }
   ],
   "source": [
    "df = pd.json_normalize(dados, record_path=['enderecos'], meta=['nome', 'idade'])\n",
    "df.head()"
   ]
  },
  {
   "cell_type": "markdown",
   "id": "d5e62ca8",
   "metadata": {},
   "source": [
    "Desafio: tratando os dados"
   ]
  },
  {
   "cell_type": "markdown",
   "id": "f03fabc0",
   "metadata": {},
   "source": [
    "Você recebeu e fez o download o arquivo JSON chamado “dados.json” que possui o seguinte conteúdo:"
   ]
  },
  {
   "cell_type": "code",
   "execution_count": 6,
   "id": "97461741",
   "metadata": {},
   "outputs": [
    {
     "data": {
      "text/plain": [
       "{'pessoas': [{'nome': 'João',\n",
       "   'idade': '25',\n",
       "   'endereco': {'rua': 'Rua A', 'numero': 123, 'cidade': 'São Paulo'},\n",
       "   'telefones': ['11 1111-1111', '11 2222-2222']},\n",
       "  {'nome': 'Maria',\n",
       "   'idade': 30,\n",
       "   'endereco': {'rua': '', 'numero': 456, 'cidade': 'Rio de Janeiro'},\n",
       "   'telefones': ['21 3333-3333']}]}"
      ]
     },
     "execution_count": 6,
     "metadata": {},
     "output_type": "execute_result"
    }
   ],
   "source": [
    "{\n",
    "  \"pessoas\": [\n",
    "    {\n",
    "      \"nome\": \"João\",\n",
    "      \"idade\": \"25\",\n",
    "      \"endereco\": {\n",
    "        \"rua\": \"Rua A\",\n",
    "        \"numero\": 123,\n",
    "        \"cidade\": \"São Paulo\"\n",
    "      },\n",
    "      \"telefones\": [\n",
    "        \"11 1111-1111\",\n",
    "        \"11 2222-2222\"\n",
    "      ]\n",
    "    },\n",
    "    {\n",
    "      \"nome\": \"Maria\",\n",
    "      \"idade\": 30,\n",
    "      \"endereco\": {\n",
    "        \"rua\": \"\",\n",
    "        \"numero\": 456,\n",
    "        \"cidade\": \"Rio de Janeiro\"\n",
    "      },\n",
    "      \"telefones\": [\n",
    "        \"21 3333-3333\"\n",
    "      ]\n",
    "    }\n",
    "  ]\n",
    "}"
   ]
  },
  {
   "cell_type": "markdown",
   "id": "ac0c8027",
   "metadata": {},
   "source": [
    "Sua tarefa é realizar alguns tratamentos e deixar esse arquivo JSON como um Pandas DataFrame, sem dados vazios e com a tipagem das colunas de forma correta. Como isso pode ser feito?"
   ]
  },
  {
   "cell_type": "code",
   "execution_count": 7,
   "id": "38aa4dba",
   "metadata": {},
   "outputs": [],
   "source": [
    "import pandas as pd\n",
    "import json\n",
    "\n",
    "with open('Datas\\\\dados.json', 'r') as f:\n",
    "    dados = json.load(f)"
   ]
  },
  {
   "cell_type": "code",
   "execution_count": 8,
   "id": "b172e3ef",
   "metadata": {},
   "outputs": [],
   "source": [
    "df = pd.json_normalize(dados, record_path=['pessoas'])"
   ]
  },
  {
   "cell_type": "code",
   "execution_count": 9,
   "id": "78df71d2",
   "metadata": {},
   "outputs": [
    {
     "name": "stdout",
     "output_type": "stream",
     "text": [
      "<class 'pandas.core.frame.DataFrame'>\n",
      "RangeIndex: 2 entries, 0 to 1\n",
      "Data columns (total 6 columns):\n",
      " #   Column           Non-Null Count  Dtype \n",
      "---  ------           --------------  ----- \n",
      " 0   nome             2 non-null      object\n",
      " 1   idade            2 non-null      object\n",
      " 2   telefones        2 non-null      object\n",
      " 3   endereco.rua     2 non-null      object\n",
      " 4   endereco.numero  2 non-null      int64 \n",
      " 5   endereco.cidade  2 non-null      object\n",
      "dtypes: int64(1), object(5)\n",
      "memory usage: 228.0+ bytes\n"
     ]
    }
   ],
   "source": [
    "df.info()"
   ]
  },
  {
   "cell_type": "code",
   "execution_count": 10,
   "id": "5dc105ec",
   "metadata": {},
   "outputs": [],
   "source": [
    "df['idade'] = df['idade'].astype(int)"
   ]
  },
  {
   "cell_type": "code",
   "execution_count": 11,
   "id": "b0f74ba7",
   "metadata": {},
   "outputs": [],
   "source": [
    "df_filtrado = df.query('`endereco.rua` != \"\"')"
   ]
  },
  {
   "cell_type": "code",
   "execution_count": 12,
   "id": "65bddd08",
   "metadata": {},
   "outputs": [],
   "source": [
    "df_filtrado = df[df['endereco.rua'] != '']"
   ]
  }
 ],
 "metadata": {
  "kernelspec": {
   "display_name": "Python 3",
   "language": "python",
   "name": "python3"
  },
  "language_info": {
   "codemirror_mode": {
    "name": "ipython",
    "version": 3
   },
   "file_extension": ".py",
   "mimetype": "text/x-python",
   "name": "python",
   "nbconvert_exporter": "python",
   "pygments_lexer": "ipython3",
   "version": "3.13.2"
  }
 },
 "nbformat": 4,
 "nbformat_minor": 5
}
